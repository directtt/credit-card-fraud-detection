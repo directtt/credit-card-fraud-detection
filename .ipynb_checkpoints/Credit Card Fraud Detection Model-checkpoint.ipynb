{
 "cells": [
  {
   "cell_type": "markdown",
   "id": "24148d36",
   "metadata": {},
   "source": [
    "# Credit Card Fraud Detection"
   ]
  },
  {
   "cell_type": "markdown",
   "id": "d21ca8e9",
   "metadata": {},
   "source": [
    "[Source Dataset](https://www.kaggle.com/mlg-ulb/creditcardfraud)"
   ]
  },
  {
   "cell_type": "markdown",
   "id": "b6f6000c",
   "metadata": {},
   "source": [
    "The dataset contains transactions made by credit cards in September 2013 by European cardholders.\n",
    "This dataset presents transactions that occurred in two days, where we have 492 frauds out of 284,807 transactions. The dataset is highly unbalanced, the positive class (frauds) account for 0.172% of all transactions.\n",
    "\n",
    "It contains only numerical input variables which are the result of a PCA transformation. Unfortunately, due to confidentiality issues, we cannot provide the original features and more background information about the data. Features V1, V2, … V28 are the principal components obtained with PCA, the only features which have not been transformed with PCA are 'Time' and 'Amount'. Feature 'Time' contains the seconds elapsed between each transaction and the first transaction in the dataset. The feature 'Amount' is the transaction Amount, this feature can be used for example-dependant cost-sensitive learning. Feature 'Class' is the response variable and it takes value 1 in case of fraud and 0 otherwise."
   ]
  },
  {
   "cell_type": "code",
   "execution_count": 1,
   "id": "c2c099a3",
   "metadata": {},
   "outputs": [],
   "source": [
    "import pandas as pd\n",
    "import numpy as np\n",
    "import seaborn as sns\n",
    "\n",
    "from matplotlib import pyplot as plt\n",
    "from matplotlib import gridspec as gridspec\n",
    "from sklearn.model_selection import train_test_split, cross_val_score, KFold, GridSearchCV, RandomizedSearchCV, cross_validate\n",
    "from sklearn.metrics import classification_report\n",
    "from sklearn import metrics\n",
    "from sklearn.preprocessing import StandardScaler, RobustScaler\n",
    "from imblearn.under_sampling import RandomUnderSampler \n",
    "from collections import Counter\n",
    "from sklearn.linear_model import LogisticRegression\n",
    "from sklearn.svm import SVC\n",
    "from sklearn.ensemble import RandomForestClassifier\n",
    "from xgboost import XGBClassifier\n",
    "from bayes_opt import BayesianOptimization\n",
    "\n",
    "import warnings\n",
    "warnings.filterwarnings(\"ignore\")\n",
    "%config InlineBackend.figure_format = 'png'"
   ]
  },
  {
   "cell_type": "code",
   "execution_count": 2,
   "id": "c25f5c71",
   "metadata": {},
   "outputs": [],
   "source": [
    "df = pd.read_csv('creditcard.csv')"
   ]
  },
  {
   "cell_type": "code",
   "execution_count": 3,
   "id": "aaf1b7aa",
   "metadata": {},
   "outputs": [
    {
     "data": {
      "text/html": [
       "<div>\n",
       "<style scoped>\n",
       "    .dataframe tbody tr th:only-of-type {\n",
       "        vertical-align: middle;\n",
       "    }\n",
       "\n",
       "    .dataframe tbody tr th {\n",
       "        vertical-align: top;\n",
       "    }\n",
       "\n",
       "    .dataframe thead th {\n",
       "        text-align: right;\n",
       "    }\n",
       "</style>\n",
       "<table border=\"1\" class=\"dataframe\">\n",
       "  <thead>\n",
       "    <tr style=\"text-align: right;\">\n",
       "      <th></th>\n",
       "      <th>Time</th>\n",
       "      <th>V1</th>\n",
       "      <th>V2</th>\n",
       "      <th>V3</th>\n",
       "      <th>V4</th>\n",
       "      <th>V5</th>\n",
       "      <th>V6</th>\n",
       "      <th>V7</th>\n",
       "      <th>V8</th>\n",
       "      <th>V9</th>\n",
       "      <th>...</th>\n",
       "      <th>V21</th>\n",
       "      <th>V22</th>\n",
       "      <th>V23</th>\n",
       "      <th>V24</th>\n",
       "      <th>V25</th>\n",
       "      <th>V26</th>\n",
       "      <th>V27</th>\n",
       "      <th>V28</th>\n",
       "      <th>Amount</th>\n",
       "      <th>Class</th>\n",
       "    </tr>\n",
       "  </thead>\n",
       "  <tbody>\n",
       "    <tr>\n",
       "      <th>0</th>\n",
       "      <td>0.0</td>\n",
       "      <td>-1.359807</td>\n",
       "      <td>-0.072781</td>\n",
       "      <td>2.536347</td>\n",
       "      <td>1.378155</td>\n",
       "      <td>-0.338321</td>\n",
       "      <td>0.462388</td>\n",
       "      <td>0.239599</td>\n",
       "      <td>0.098698</td>\n",
       "      <td>0.363787</td>\n",
       "      <td>...</td>\n",
       "      <td>-0.018307</td>\n",
       "      <td>0.277838</td>\n",
       "      <td>-0.110474</td>\n",
       "      <td>0.066928</td>\n",
       "      <td>0.128539</td>\n",
       "      <td>-0.189115</td>\n",
       "      <td>0.133558</td>\n",
       "      <td>-0.021053</td>\n",
       "      <td>149.62</td>\n",
       "      <td>0</td>\n",
       "    </tr>\n",
       "    <tr>\n",
       "      <th>1</th>\n",
       "      <td>0.0</td>\n",
       "      <td>1.191857</td>\n",
       "      <td>0.266151</td>\n",
       "      <td>0.166480</td>\n",
       "      <td>0.448154</td>\n",
       "      <td>0.060018</td>\n",
       "      <td>-0.082361</td>\n",
       "      <td>-0.078803</td>\n",
       "      <td>0.085102</td>\n",
       "      <td>-0.255425</td>\n",
       "      <td>...</td>\n",
       "      <td>-0.225775</td>\n",
       "      <td>-0.638672</td>\n",
       "      <td>0.101288</td>\n",
       "      <td>-0.339846</td>\n",
       "      <td>0.167170</td>\n",
       "      <td>0.125895</td>\n",
       "      <td>-0.008983</td>\n",
       "      <td>0.014724</td>\n",
       "      <td>2.69</td>\n",
       "      <td>0</td>\n",
       "    </tr>\n",
       "    <tr>\n",
       "      <th>2</th>\n",
       "      <td>1.0</td>\n",
       "      <td>-1.358354</td>\n",
       "      <td>-1.340163</td>\n",
       "      <td>1.773209</td>\n",
       "      <td>0.379780</td>\n",
       "      <td>-0.503198</td>\n",
       "      <td>1.800499</td>\n",
       "      <td>0.791461</td>\n",
       "      <td>0.247676</td>\n",
       "      <td>-1.514654</td>\n",
       "      <td>...</td>\n",
       "      <td>0.247998</td>\n",
       "      <td>0.771679</td>\n",
       "      <td>0.909412</td>\n",
       "      <td>-0.689281</td>\n",
       "      <td>-0.327642</td>\n",
       "      <td>-0.139097</td>\n",
       "      <td>-0.055353</td>\n",
       "      <td>-0.059752</td>\n",
       "      <td>378.66</td>\n",
       "      <td>0</td>\n",
       "    </tr>\n",
       "    <tr>\n",
       "      <th>3</th>\n",
       "      <td>1.0</td>\n",
       "      <td>-0.966272</td>\n",
       "      <td>-0.185226</td>\n",
       "      <td>1.792993</td>\n",
       "      <td>-0.863291</td>\n",
       "      <td>-0.010309</td>\n",
       "      <td>1.247203</td>\n",
       "      <td>0.237609</td>\n",
       "      <td>0.377436</td>\n",
       "      <td>-1.387024</td>\n",
       "      <td>...</td>\n",
       "      <td>-0.108300</td>\n",
       "      <td>0.005274</td>\n",
       "      <td>-0.190321</td>\n",
       "      <td>-1.175575</td>\n",
       "      <td>0.647376</td>\n",
       "      <td>-0.221929</td>\n",
       "      <td>0.062723</td>\n",
       "      <td>0.061458</td>\n",
       "      <td>123.50</td>\n",
       "      <td>0</td>\n",
       "    </tr>\n",
       "    <tr>\n",
       "      <th>4</th>\n",
       "      <td>2.0</td>\n",
       "      <td>-1.158233</td>\n",
       "      <td>0.877737</td>\n",
       "      <td>1.548718</td>\n",
       "      <td>0.403034</td>\n",
       "      <td>-0.407193</td>\n",
       "      <td>0.095921</td>\n",
       "      <td>0.592941</td>\n",
       "      <td>-0.270533</td>\n",
       "      <td>0.817739</td>\n",
       "      <td>...</td>\n",
       "      <td>-0.009431</td>\n",
       "      <td>0.798278</td>\n",
       "      <td>-0.137458</td>\n",
       "      <td>0.141267</td>\n",
       "      <td>-0.206010</td>\n",
       "      <td>0.502292</td>\n",
       "      <td>0.219422</td>\n",
       "      <td>0.215153</td>\n",
       "      <td>69.99</td>\n",
       "      <td>0</td>\n",
       "    </tr>\n",
       "    <tr>\n",
       "      <th>...</th>\n",
       "      <td>...</td>\n",
       "      <td>...</td>\n",
       "      <td>...</td>\n",
       "      <td>...</td>\n",
       "      <td>...</td>\n",
       "      <td>...</td>\n",
       "      <td>...</td>\n",
       "      <td>...</td>\n",
       "      <td>...</td>\n",
       "      <td>...</td>\n",
       "      <td>...</td>\n",
       "      <td>...</td>\n",
       "      <td>...</td>\n",
       "      <td>...</td>\n",
       "      <td>...</td>\n",
       "      <td>...</td>\n",
       "      <td>...</td>\n",
       "      <td>...</td>\n",
       "      <td>...</td>\n",
       "      <td>...</td>\n",
       "      <td>...</td>\n",
       "    </tr>\n",
       "    <tr>\n",
       "      <th>284802</th>\n",
       "      <td>172786.0</td>\n",
       "      <td>-11.881118</td>\n",
       "      <td>10.071785</td>\n",
       "      <td>-9.834783</td>\n",
       "      <td>-2.066656</td>\n",
       "      <td>-5.364473</td>\n",
       "      <td>-2.606837</td>\n",
       "      <td>-4.918215</td>\n",
       "      <td>7.305334</td>\n",
       "      <td>1.914428</td>\n",
       "      <td>...</td>\n",
       "      <td>0.213454</td>\n",
       "      <td>0.111864</td>\n",
       "      <td>1.014480</td>\n",
       "      <td>-0.509348</td>\n",
       "      <td>1.436807</td>\n",
       "      <td>0.250034</td>\n",
       "      <td>0.943651</td>\n",
       "      <td>0.823731</td>\n",
       "      <td>0.77</td>\n",
       "      <td>0</td>\n",
       "    </tr>\n",
       "    <tr>\n",
       "      <th>284803</th>\n",
       "      <td>172787.0</td>\n",
       "      <td>-0.732789</td>\n",
       "      <td>-0.055080</td>\n",
       "      <td>2.035030</td>\n",
       "      <td>-0.738589</td>\n",
       "      <td>0.868229</td>\n",
       "      <td>1.058415</td>\n",
       "      <td>0.024330</td>\n",
       "      <td>0.294869</td>\n",
       "      <td>0.584800</td>\n",
       "      <td>...</td>\n",
       "      <td>0.214205</td>\n",
       "      <td>0.924384</td>\n",
       "      <td>0.012463</td>\n",
       "      <td>-1.016226</td>\n",
       "      <td>-0.606624</td>\n",
       "      <td>-0.395255</td>\n",
       "      <td>0.068472</td>\n",
       "      <td>-0.053527</td>\n",
       "      <td>24.79</td>\n",
       "      <td>0</td>\n",
       "    </tr>\n",
       "    <tr>\n",
       "      <th>284804</th>\n",
       "      <td>172788.0</td>\n",
       "      <td>1.919565</td>\n",
       "      <td>-0.301254</td>\n",
       "      <td>-3.249640</td>\n",
       "      <td>-0.557828</td>\n",
       "      <td>2.630515</td>\n",
       "      <td>3.031260</td>\n",
       "      <td>-0.296827</td>\n",
       "      <td>0.708417</td>\n",
       "      <td>0.432454</td>\n",
       "      <td>...</td>\n",
       "      <td>0.232045</td>\n",
       "      <td>0.578229</td>\n",
       "      <td>-0.037501</td>\n",
       "      <td>0.640134</td>\n",
       "      <td>0.265745</td>\n",
       "      <td>-0.087371</td>\n",
       "      <td>0.004455</td>\n",
       "      <td>-0.026561</td>\n",
       "      <td>67.88</td>\n",
       "      <td>0</td>\n",
       "    </tr>\n",
       "    <tr>\n",
       "      <th>284805</th>\n",
       "      <td>172788.0</td>\n",
       "      <td>-0.240440</td>\n",
       "      <td>0.530483</td>\n",
       "      <td>0.702510</td>\n",
       "      <td>0.689799</td>\n",
       "      <td>-0.377961</td>\n",
       "      <td>0.623708</td>\n",
       "      <td>-0.686180</td>\n",
       "      <td>0.679145</td>\n",
       "      <td>0.392087</td>\n",
       "      <td>...</td>\n",
       "      <td>0.265245</td>\n",
       "      <td>0.800049</td>\n",
       "      <td>-0.163298</td>\n",
       "      <td>0.123205</td>\n",
       "      <td>-0.569159</td>\n",
       "      <td>0.546668</td>\n",
       "      <td>0.108821</td>\n",
       "      <td>0.104533</td>\n",
       "      <td>10.00</td>\n",
       "      <td>0</td>\n",
       "    </tr>\n",
       "    <tr>\n",
       "      <th>284806</th>\n",
       "      <td>172792.0</td>\n",
       "      <td>-0.533413</td>\n",
       "      <td>-0.189733</td>\n",
       "      <td>0.703337</td>\n",
       "      <td>-0.506271</td>\n",
       "      <td>-0.012546</td>\n",
       "      <td>-0.649617</td>\n",
       "      <td>1.577006</td>\n",
       "      <td>-0.414650</td>\n",
       "      <td>0.486180</td>\n",
       "      <td>...</td>\n",
       "      <td>0.261057</td>\n",
       "      <td>0.643078</td>\n",
       "      <td>0.376777</td>\n",
       "      <td>0.008797</td>\n",
       "      <td>-0.473649</td>\n",
       "      <td>-0.818267</td>\n",
       "      <td>-0.002415</td>\n",
       "      <td>0.013649</td>\n",
       "      <td>217.00</td>\n",
       "      <td>0</td>\n",
       "    </tr>\n",
       "  </tbody>\n",
       "</table>\n",
       "<p>284807 rows × 31 columns</p>\n",
       "</div>"
      ],
      "text/plain": [
       "            Time         V1         V2        V3        V4        V5  \\\n",
       "0            0.0  -1.359807  -0.072781  2.536347  1.378155 -0.338321   \n",
       "1            0.0   1.191857   0.266151  0.166480  0.448154  0.060018   \n",
       "2            1.0  -1.358354  -1.340163  1.773209  0.379780 -0.503198   \n",
       "3            1.0  -0.966272  -0.185226  1.792993 -0.863291 -0.010309   \n",
       "4            2.0  -1.158233   0.877737  1.548718  0.403034 -0.407193   \n",
       "...          ...        ...        ...       ...       ...       ...   \n",
       "284802  172786.0 -11.881118  10.071785 -9.834783 -2.066656 -5.364473   \n",
       "284803  172787.0  -0.732789  -0.055080  2.035030 -0.738589  0.868229   \n",
       "284804  172788.0   1.919565  -0.301254 -3.249640 -0.557828  2.630515   \n",
       "284805  172788.0  -0.240440   0.530483  0.702510  0.689799 -0.377961   \n",
       "284806  172792.0  -0.533413  -0.189733  0.703337 -0.506271 -0.012546   \n",
       "\n",
       "              V6        V7        V8        V9  ...       V21       V22  \\\n",
       "0       0.462388  0.239599  0.098698  0.363787  ... -0.018307  0.277838   \n",
       "1      -0.082361 -0.078803  0.085102 -0.255425  ... -0.225775 -0.638672   \n",
       "2       1.800499  0.791461  0.247676 -1.514654  ...  0.247998  0.771679   \n",
       "3       1.247203  0.237609  0.377436 -1.387024  ... -0.108300  0.005274   \n",
       "4       0.095921  0.592941 -0.270533  0.817739  ... -0.009431  0.798278   \n",
       "...          ...       ...       ...       ...  ...       ...       ...   \n",
       "284802 -2.606837 -4.918215  7.305334  1.914428  ...  0.213454  0.111864   \n",
       "284803  1.058415  0.024330  0.294869  0.584800  ...  0.214205  0.924384   \n",
       "284804  3.031260 -0.296827  0.708417  0.432454  ...  0.232045  0.578229   \n",
       "284805  0.623708 -0.686180  0.679145  0.392087  ...  0.265245  0.800049   \n",
       "284806 -0.649617  1.577006 -0.414650  0.486180  ...  0.261057  0.643078   \n",
       "\n",
       "             V23       V24       V25       V26       V27       V28  Amount  \\\n",
       "0      -0.110474  0.066928  0.128539 -0.189115  0.133558 -0.021053  149.62   \n",
       "1       0.101288 -0.339846  0.167170  0.125895 -0.008983  0.014724    2.69   \n",
       "2       0.909412 -0.689281 -0.327642 -0.139097 -0.055353 -0.059752  378.66   \n",
       "3      -0.190321 -1.175575  0.647376 -0.221929  0.062723  0.061458  123.50   \n",
       "4      -0.137458  0.141267 -0.206010  0.502292  0.219422  0.215153   69.99   \n",
       "...          ...       ...       ...       ...       ...       ...     ...   \n",
       "284802  1.014480 -0.509348  1.436807  0.250034  0.943651  0.823731    0.77   \n",
       "284803  0.012463 -1.016226 -0.606624 -0.395255  0.068472 -0.053527   24.79   \n",
       "284804 -0.037501  0.640134  0.265745 -0.087371  0.004455 -0.026561   67.88   \n",
       "284805 -0.163298  0.123205 -0.569159  0.546668  0.108821  0.104533   10.00   \n",
       "284806  0.376777  0.008797 -0.473649 -0.818267 -0.002415  0.013649  217.00   \n",
       "\n",
       "        Class  \n",
       "0           0  \n",
       "1           0  \n",
       "2           0  \n",
       "3           0  \n",
       "4           0  \n",
       "...       ...  \n",
       "284802      0  \n",
       "284803      0  \n",
       "284804      0  \n",
       "284805      0  \n",
       "284806      0  \n",
       "\n",
       "[284807 rows x 31 columns]"
      ]
     },
     "execution_count": 3,
     "metadata": {},
     "output_type": "execute_result"
    }
   ],
   "source": [
    "df"
   ]
  },
  {
   "cell_type": "markdown",
   "id": "0cfc99ce",
   "metadata": {},
   "source": [
    "# EDA "
   ]
  },
  {
   "cell_type": "markdown",
   "id": "452e0658",
   "metadata": {},
   "source": [
    "## General summary"
   ]
  },
  {
   "cell_type": "code",
   "execution_count": 4,
   "id": "c89133b0",
   "metadata": {},
   "outputs": [
    {
     "data": {
      "text/html": [
       "<div>\n",
       "<style scoped>\n",
       "    .dataframe tbody tr th:only-of-type {\n",
       "        vertical-align: middle;\n",
       "    }\n",
       "\n",
       "    .dataframe tbody tr th {\n",
       "        vertical-align: top;\n",
       "    }\n",
       "\n",
       "    .dataframe thead th {\n",
       "        text-align: right;\n",
       "    }\n",
       "</style>\n",
       "<table border=\"1\" class=\"dataframe\">\n",
       "  <thead>\n",
       "    <tr style=\"text-align: right;\">\n",
       "      <th></th>\n",
       "      <th>Time</th>\n",
       "      <th>V1</th>\n",
       "      <th>V2</th>\n",
       "      <th>V3</th>\n",
       "      <th>V4</th>\n",
       "      <th>V5</th>\n",
       "      <th>V6</th>\n",
       "      <th>V7</th>\n",
       "      <th>V8</th>\n",
       "      <th>V9</th>\n",
       "      <th>...</th>\n",
       "      <th>V21</th>\n",
       "      <th>V22</th>\n",
       "      <th>V23</th>\n",
       "      <th>V24</th>\n",
       "      <th>V25</th>\n",
       "      <th>V26</th>\n",
       "      <th>V27</th>\n",
       "      <th>V28</th>\n",
       "      <th>Amount</th>\n",
       "      <th>Class</th>\n",
       "    </tr>\n",
       "  </thead>\n",
       "  <tbody>\n",
       "    <tr>\n",
       "      <th>0</th>\n",
       "      <td>0.0</td>\n",
       "      <td>-1.359807</td>\n",
       "      <td>-0.072781</td>\n",
       "      <td>2.536347</td>\n",
       "      <td>1.378155</td>\n",
       "      <td>-0.338321</td>\n",
       "      <td>0.462388</td>\n",
       "      <td>0.239599</td>\n",
       "      <td>0.098698</td>\n",
       "      <td>0.363787</td>\n",
       "      <td>...</td>\n",
       "      <td>-0.018307</td>\n",
       "      <td>0.277838</td>\n",
       "      <td>-0.110474</td>\n",
       "      <td>0.066928</td>\n",
       "      <td>0.128539</td>\n",
       "      <td>-0.189115</td>\n",
       "      <td>0.133558</td>\n",
       "      <td>-0.021053</td>\n",
       "      <td>149.62</td>\n",
       "      <td>0</td>\n",
       "    </tr>\n",
       "    <tr>\n",
       "      <th>1</th>\n",
       "      <td>0.0</td>\n",
       "      <td>1.191857</td>\n",
       "      <td>0.266151</td>\n",
       "      <td>0.166480</td>\n",
       "      <td>0.448154</td>\n",
       "      <td>0.060018</td>\n",
       "      <td>-0.082361</td>\n",
       "      <td>-0.078803</td>\n",
       "      <td>0.085102</td>\n",
       "      <td>-0.255425</td>\n",
       "      <td>...</td>\n",
       "      <td>-0.225775</td>\n",
       "      <td>-0.638672</td>\n",
       "      <td>0.101288</td>\n",
       "      <td>-0.339846</td>\n",
       "      <td>0.167170</td>\n",
       "      <td>0.125895</td>\n",
       "      <td>-0.008983</td>\n",
       "      <td>0.014724</td>\n",
       "      <td>2.69</td>\n",
       "      <td>0</td>\n",
       "    </tr>\n",
       "    <tr>\n",
       "      <th>2</th>\n",
       "      <td>1.0</td>\n",
       "      <td>-1.358354</td>\n",
       "      <td>-1.340163</td>\n",
       "      <td>1.773209</td>\n",
       "      <td>0.379780</td>\n",
       "      <td>-0.503198</td>\n",
       "      <td>1.800499</td>\n",
       "      <td>0.791461</td>\n",
       "      <td>0.247676</td>\n",
       "      <td>-1.514654</td>\n",
       "      <td>...</td>\n",
       "      <td>0.247998</td>\n",
       "      <td>0.771679</td>\n",
       "      <td>0.909412</td>\n",
       "      <td>-0.689281</td>\n",
       "      <td>-0.327642</td>\n",
       "      <td>-0.139097</td>\n",
       "      <td>-0.055353</td>\n",
       "      <td>-0.059752</td>\n",
       "      <td>378.66</td>\n",
       "      <td>0</td>\n",
       "    </tr>\n",
       "    <tr>\n",
       "      <th>3</th>\n",
       "      <td>1.0</td>\n",
       "      <td>-0.966272</td>\n",
       "      <td>-0.185226</td>\n",
       "      <td>1.792993</td>\n",
       "      <td>-0.863291</td>\n",
       "      <td>-0.010309</td>\n",
       "      <td>1.247203</td>\n",
       "      <td>0.237609</td>\n",
       "      <td>0.377436</td>\n",
       "      <td>-1.387024</td>\n",
       "      <td>...</td>\n",
       "      <td>-0.108300</td>\n",
       "      <td>0.005274</td>\n",
       "      <td>-0.190321</td>\n",
       "      <td>-1.175575</td>\n",
       "      <td>0.647376</td>\n",
       "      <td>-0.221929</td>\n",
       "      <td>0.062723</td>\n",
       "      <td>0.061458</td>\n",
       "      <td>123.50</td>\n",
       "      <td>0</td>\n",
       "    </tr>\n",
       "    <tr>\n",
       "      <th>4</th>\n",
       "      <td>2.0</td>\n",
       "      <td>-1.158233</td>\n",
       "      <td>0.877737</td>\n",
       "      <td>1.548718</td>\n",
       "      <td>0.403034</td>\n",
       "      <td>-0.407193</td>\n",
       "      <td>0.095921</td>\n",
       "      <td>0.592941</td>\n",
       "      <td>-0.270533</td>\n",
       "      <td>0.817739</td>\n",
       "      <td>...</td>\n",
       "      <td>-0.009431</td>\n",
       "      <td>0.798278</td>\n",
       "      <td>-0.137458</td>\n",
       "      <td>0.141267</td>\n",
       "      <td>-0.206010</td>\n",
       "      <td>0.502292</td>\n",
       "      <td>0.219422</td>\n",
       "      <td>0.215153</td>\n",
       "      <td>69.99</td>\n",
       "      <td>0</td>\n",
       "    </tr>\n",
       "  </tbody>\n",
       "</table>\n",
       "<p>5 rows × 31 columns</p>\n",
       "</div>"
      ],
      "text/plain": [
       "   Time        V1        V2        V3        V4        V5        V6        V7  \\\n",
       "0   0.0 -1.359807 -0.072781  2.536347  1.378155 -0.338321  0.462388  0.239599   \n",
       "1   0.0  1.191857  0.266151  0.166480  0.448154  0.060018 -0.082361 -0.078803   \n",
       "2   1.0 -1.358354 -1.340163  1.773209  0.379780 -0.503198  1.800499  0.791461   \n",
       "3   1.0 -0.966272 -0.185226  1.792993 -0.863291 -0.010309  1.247203  0.237609   \n",
       "4   2.0 -1.158233  0.877737  1.548718  0.403034 -0.407193  0.095921  0.592941   \n",
       "\n",
       "         V8        V9  ...       V21       V22       V23       V24       V25  \\\n",
       "0  0.098698  0.363787  ... -0.018307  0.277838 -0.110474  0.066928  0.128539   \n",
       "1  0.085102 -0.255425  ... -0.225775 -0.638672  0.101288 -0.339846  0.167170   \n",
       "2  0.247676 -1.514654  ...  0.247998  0.771679  0.909412 -0.689281 -0.327642   \n",
       "3  0.377436 -1.387024  ... -0.108300  0.005274 -0.190321 -1.175575  0.647376   \n",
       "4 -0.270533  0.817739  ... -0.009431  0.798278 -0.137458  0.141267 -0.206010   \n",
       "\n",
       "        V26       V27       V28  Amount  Class  \n",
       "0 -0.189115  0.133558 -0.021053  149.62      0  \n",
       "1  0.125895 -0.008983  0.014724    2.69      0  \n",
       "2 -0.139097 -0.055353 -0.059752  378.66      0  \n",
       "3 -0.221929  0.062723  0.061458  123.50      0  \n",
       "4  0.502292  0.219422  0.215153   69.99      0  \n",
       "\n",
       "[5 rows x 31 columns]"
      ]
     },
     "execution_count": 4,
     "metadata": {},
     "output_type": "execute_result"
    }
   ],
   "source": [
    "df.head()"
   ]
  },
  {
   "cell_type": "code",
   "execution_count": 5,
   "id": "03ec64f5",
   "metadata": {},
   "outputs": [
    {
     "name": "stdout",
     "output_type": "stream",
     "text": [
      "<class 'pandas.core.frame.DataFrame'>\n",
      "RangeIndex: 284807 entries, 0 to 284806\n",
      "Data columns (total 31 columns):\n",
      "Time      284807 non-null float64\n",
      "V1        284807 non-null float64\n",
      "V2        284807 non-null float64\n",
      "V3        284807 non-null float64\n",
      "V4        284807 non-null float64\n",
      "V5        284807 non-null float64\n",
      "V6        284807 non-null float64\n",
      "V7        284807 non-null float64\n",
      "V8        284807 non-null float64\n",
      "V9        284807 non-null float64\n",
      "V10       284807 non-null float64\n",
      "V11       284807 non-null float64\n",
      "V12       284807 non-null float64\n",
      "V13       284807 non-null float64\n",
      "V14       284807 non-null float64\n",
      "V15       284807 non-null float64\n",
      "V16       284807 non-null float64\n",
      "V17       284807 non-null float64\n",
      "V18       284807 non-null float64\n",
      "V19       284807 non-null float64\n",
      "V20       284807 non-null float64\n",
      "V21       284807 non-null float64\n",
      "V22       284807 non-null float64\n",
      "V23       284807 non-null float64\n",
      "V24       284807 non-null float64\n",
      "V25       284807 non-null float64\n",
      "V26       284807 non-null float64\n",
      "V27       284807 non-null float64\n",
      "V28       284807 non-null float64\n",
      "Amount    284807 non-null float64\n",
      "Class     284807 non-null int64\n",
      "dtypes: float64(30), int64(1)\n",
      "memory usage: 67.4 MB\n"
     ]
    }
   ],
   "source": [
    "df.info()"
   ]
  },
  {
   "cell_type": "markdown",
   "id": "8b705787",
   "metadata": {},
   "source": [
    "**Note:** Features V1, V2, … V28 are the principal components obtained with PCA (already scaled), the only features which have not been transformed with PCA are 'Time' and 'Amount'. Feature 'Time' contains the seconds elapsed between each transaction and the first transaction in the dataset. The feature 'Amount' is the transaction Amount, feature 'Class' is the response variable and it takes value 1 in case of fraud and 0 otherwise."
   ]
  },
  {
   "cell_type": "markdown",
   "id": "cf851968",
   "metadata": {},
   "source": [
    "## Missing Values"
   ]
  },
  {
   "cell_type": "code",
   "execution_count": 6,
   "id": "1032cc69",
   "metadata": {},
   "outputs": [
    {
     "data": {
      "text/plain": [
       "0"
      ]
     },
     "execution_count": 6,
     "metadata": {},
     "output_type": "execute_result"
    }
   ],
   "source": [
    "df.isna().sum().sum()"
   ]
  },
  {
   "cell_type": "markdown",
   "id": "ef9457f4",
   "metadata": {},
   "source": [
    "**Note:** The dataset does not contains any missing values."
   ]
  },
  {
   "cell_type": "markdown",
   "id": "f4561eb7",
   "metadata": {},
   "source": [
    "## Target variable (Class) distribution"
   ]
  },
  {
   "cell_type": "code",
   "execution_count": 7,
   "id": "e5fd0239",
   "metadata": {},
   "outputs": [
    {
     "data": {
      "image/png": "[encoded data removed]",
      "text/plain": [
       "<Figure size 504x360 with 1 Axes>"
      ]
     },
     "metadata": {
      "needs_background": "light"
     },
     "output_type": "display_data"
    }
   ],
   "source": [
    "plt.figure(figsize=(7, 5))\n",
    "sns.countplot('Class', data=df);"
   ]
  },
  {
   "cell_type": "code",
   "execution_count": 8,
   "id": "422816b2",
   "metadata": {},
   "outputs": [
    {
     "data": {
      "text/html": [
       "<div>\n",
       "<style scoped>\n",
       "    .dataframe tbody tr th:only-of-type {\n",
       "        vertical-align: middle;\n",
       "    }\n",
       "\n",
       "    .dataframe tbody tr th {\n",
       "        vertical-align: top;\n",
       "    }\n",
       "\n",
       "    .dataframe thead th {\n",
       "        text-align: right;\n",
       "    }\n",
       "</style>\n",
       "<table border=\"1\" class=\"dataframe\">\n",
       "  <thead>\n",
       "    <tr style=\"text-align: right;\">\n",
       "      <th></th>\n",
       "      <th>Class_perc</th>\n",
       "    </tr>\n",
       "  </thead>\n",
       "  <tbody>\n",
       "    <tr>\n",
       "      <th>0</th>\n",
       "      <td>0.998273</td>\n",
       "    </tr>\n",
       "    <tr>\n",
       "      <th>1</th>\n",
       "      <td>0.001727</td>\n",
       "    </tr>\n",
       "  </tbody>\n",
       "</table>\n",
       "</div>"
      ],
      "text/plain": [
       "   Class_perc\n",
       "0    0.998273\n",
       "1    0.001727"
      ]
     },
     "execution_count": 8,
     "metadata": {},
     "output_type": "execute_result"
    }
   ],
   "source": [
    "df.Class.value_counts(normalize=True).to_frame('Class_perc')"
   ]
  },
  {
   "cell_type": "markdown",
   "id": "4295cc9c",
   "metadata": {},
   "source": [
    "**Note:** Our original dataset is highly imbalanced, ~99.83%  No Frauds vs ~0.17% Frauds."
   ]
  },
  {
   "cell_type": "markdown",
   "id": "533d5fad",
   "metadata": {},
   "source": [
    "## Amount & Time Variables Distributions"
   ]
  },
  {
   "cell_type": "code",
   "execution_count": 9,
   "id": "1d4d9f0b",
   "metadata": {},
   "outputs": [],
   "source": [
    "def show_dist(df, var):\n",
    "    fig = plt.figure(constrained_layout=True, figsize=(10, 5))\n",
    "    grid = gridspec.GridSpec(ncols=3, nrows=1, figure=fig)\n",
    "    \n",
    "    ax1 = fig.add_subplot(grid[0, :2])\n",
    "    ax1.set_title('Histogram of %s' % var)\n",
    "    sns.distplot(df.loc[:, var], norm_hist=True, ax=ax1);\n",
    "    \n",
    "    ax2 = fig.add_subplot(grid[0, 2])\n",
    "    ax2.set_title('Box Plot of %s' % var)\n",
    "    sns.boxplot(y=df.loc[:, var], ax=ax2);"
   ]
  },
  {
   "cell_type": "code",
   "execution_count": 10,
   "id": "741a8abd",
   "metadata": {},
   "outputs": [
    {
     "data": {
      "image/png": "[encoded data removed]",
      "text/plain": [
       "<Figure size 720x360 with 2 Axes>"
      ]
     },
     "metadata": {
      "needs_background": "light"
     },
     "output_type": "display_data"
    }
   ],
   "source": [
    "show_dist(df, 'Amount')"
   ]
  },
  {
   "cell_type": "code",
   "execution_count": 11,
   "id": "dd7c1103",
   "metadata": {},
   "outputs": [
    {
     "data": {
      "image/png": "[encoded data removed]",
      "text/plain": [
       "<Figure size 720x360 with 2 Axes>"
      ]
     },
     "metadata": {
      "needs_background": "light"
     },
     "output_type": "display_data"
    }
   ],
   "source": [
    "show_dist(df, 'Time')"
   ]
  },
  {
   "cell_type": "markdown",
   "id": "93a18dbd",
   "metadata": {},
   "source": [
    "**Note:** Before further exploration let's perform the above features scaling and create a sub-sample of the original dataframe in order to have an equal amount of Fraud and Non-Fraud transactions."
   ]
  },
  {
   "cell_type": "markdown",
   "id": "22d811b2",
   "metadata": {},
   "source": [
    "# Features Engineering"
   ]
  },
  {
   "cell_type": "markdown",
   "id": "25e15b3c",
   "metadata": {},
   "source": [
    "## Amount & Time scaling"
   ]
  },
  {
   "cell_type": "code",
   "execution_count": 12,
   "id": "c995a448",
   "metadata": {},
   "outputs": [],
   "source": [
    "df['scaled_amount'] = RobustScaler().fit_transform(df['Amount'].values.reshape(-1,1))\n",
    "df['scaled_time'] = RobustScaler().fit_transform(df['Time'].values.reshape(-1,1))\n",
    "\n",
    "df.drop(['Time','Amount'], axis=1, inplace=True)"
   ]
  },
  {
   "cell_type": "code",
   "execution_count": 13,
   "id": "22c13386",
   "metadata": {},
   "outputs": [
    {
     "data": {
      "text/html": [
       "<div>\n",
       "<style scoped>\n",
       "    .dataframe tbody tr th:only-of-type {\n",
       "        vertical-align: middle;\n",
       "    }\n",
       "\n",
       "    .dataframe tbody tr th {\n",
       "        vertical-align: top;\n",
       "    }\n",
       "\n",
       "    .dataframe thead th {\n",
       "        text-align: right;\n",
       "    }\n",
       "</style>\n",
       "<table border=\"1\" class=\"dataframe\">\n",
       "  <thead>\n",
       "    <tr style=\"text-align: right;\">\n",
       "      <th></th>\n",
       "      <th>scaled_amount</th>\n",
       "      <th>scaled_time</th>\n",
       "      <th>V1</th>\n",
       "      <th>V2</th>\n",
       "      <th>V3</th>\n",
       "      <th>V4</th>\n",
       "      <th>V5</th>\n",
       "      <th>V6</th>\n",
       "      <th>V7</th>\n",
       "      <th>V8</th>\n",
       "      <th>...</th>\n",
       "      <th>V20</th>\n",
       "      <th>V21</th>\n",
       "      <th>V22</th>\n",
       "      <th>V23</th>\n",
       "      <th>V24</th>\n",
       "      <th>V25</th>\n",
       "      <th>V26</th>\n",
       "      <th>V27</th>\n",
       "      <th>V28</th>\n",
       "      <th>Class</th>\n",
       "    </tr>\n",
       "  </thead>\n",
       "  <tbody>\n",
       "    <tr>\n",
       "      <th>0</th>\n",
       "      <td>1.783274</td>\n",
       "      <td>-0.994983</td>\n",
       "      <td>-1.359807</td>\n",
       "      <td>-0.072781</td>\n",
       "      <td>2.536347</td>\n",
       "      <td>1.378155</td>\n",
       "      <td>-0.338321</td>\n",
       "      <td>0.462388</td>\n",
       "      <td>0.239599</td>\n",
       "      <td>0.098698</td>\n",
       "      <td>...</td>\n",
       "      <td>0.251412</td>\n",
       "      <td>-0.018307</td>\n",
       "      <td>0.277838</td>\n",
       "      <td>-0.110474</td>\n",
       "      <td>0.066928</td>\n",
       "      <td>0.128539</td>\n",
       "      <td>-0.189115</td>\n",
       "      <td>0.133558</td>\n",
       "      <td>-0.021053</td>\n",
       "      <td>0</td>\n",
       "    </tr>\n",
       "    <tr>\n",
       "      <th>1</th>\n",
       "      <td>-0.269825</td>\n",
       "      <td>-0.994983</td>\n",
       "      <td>1.191857</td>\n",
       "      <td>0.266151</td>\n",
       "      <td>0.166480</td>\n",
       "      <td>0.448154</td>\n",
       "      <td>0.060018</td>\n",
       "      <td>-0.082361</td>\n",
       "      <td>-0.078803</td>\n",
       "      <td>0.085102</td>\n",
       "      <td>...</td>\n",
       "      <td>-0.069083</td>\n",
       "      <td>-0.225775</td>\n",
       "      <td>-0.638672</td>\n",
       "      <td>0.101288</td>\n",
       "      <td>-0.339846</td>\n",
       "      <td>0.167170</td>\n",
       "      <td>0.125895</td>\n",
       "      <td>-0.008983</td>\n",
       "      <td>0.014724</td>\n",
       "      <td>0</td>\n",
       "    </tr>\n",
       "    <tr>\n",
       "      <th>2</th>\n",
       "      <td>4.983721</td>\n",
       "      <td>-0.994972</td>\n",
       "      <td>-1.358354</td>\n",
       "      <td>-1.340163</td>\n",
       "      <td>1.773209</td>\n",
       "      <td>0.379780</td>\n",
       "      <td>-0.503198</td>\n",
       "      <td>1.800499</td>\n",
       "      <td>0.791461</td>\n",
       "      <td>0.247676</td>\n",
       "      <td>...</td>\n",
       "      <td>0.524980</td>\n",
       "      <td>0.247998</td>\n",
       "      <td>0.771679</td>\n",
       "      <td>0.909412</td>\n",
       "      <td>-0.689281</td>\n",
       "      <td>-0.327642</td>\n",
       "      <td>-0.139097</td>\n",
       "      <td>-0.055353</td>\n",
       "      <td>-0.059752</td>\n",
       "      <td>0</td>\n",
       "    </tr>\n",
       "    <tr>\n",
       "      <th>3</th>\n",
       "      <td>1.418291</td>\n",
       "      <td>-0.994972</td>\n",
       "      <td>-0.966272</td>\n",
       "      <td>-0.185226</td>\n",
       "      <td>1.792993</td>\n",
       "      <td>-0.863291</td>\n",
       "      <td>-0.010309</td>\n",
       "      <td>1.247203</td>\n",
       "      <td>0.237609</td>\n",
       "      <td>0.377436</td>\n",
       "      <td>...</td>\n",
       "      <td>-0.208038</td>\n",
       "      <td>-0.108300</td>\n",
       "      <td>0.005274</td>\n",
       "      <td>-0.190321</td>\n",
       "      <td>-1.175575</td>\n",
       "      <td>0.647376</td>\n",
       "      <td>-0.221929</td>\n",
       "      <td>0.062723</td>\n",
       "      <td>0.061458</td>\n",
       "      <td>0</td>\n",
       "    </tr>\n",
       "    <tr>\n",
       "      <th>4</th>\n",
       "      <td>0.670579</td>\n",
       "      <td>-0.994960</td>\n",
       "      <td>-1.158233</td>\n",
       "      <td>0.877737</td>\n",
       "      <td>1.548718</td>\n",
       "      <td>0.403034</td>\n",
       "      <td>-0.407193</td>\n",
       "      <td>0.095921</td>\n",
       "      <td>0.592941</td>\n",
       "      <td>-0.270533</td>\n",
       "      <td>...</td>\n",
       "      <td>0.408542</td>\n",
       "      <td>-0.009431</td>\n",
       "      <td>0.798278</td>\n",
       "      <td>-0.137458</td>\n",
       "      <td>0.141267</td>\n",
       "      <td>-0.206010</td>\n",
       "      <td>0.502292</td>\n",
       "      <td>0.219422</td>\n",
       "      <td>0.215153</td>\n",
       "      <td>0</td>\n",
       "    </tr>\n",
       "  </tbody>\n",
       "</table>\n",
       "<p>5 rows × 31 columns</p>\n",
       "</div>"
      ],
      "text/plain": [
       "   scaled_amount  scaled_time        V1        V2        V3        V4  \\\n",
       "0       1.783274    -0.994983 -1.359807 -0.072781  2.536347  1.378155   \n",
       "1      -0.269825    -0.994983  1.191857  0.266151  0.166480  0.448154   \n",
       "2       4.983721    -0.994972 -1.358354 -1.340163  1.773209  0.379780   \n",
       "3       1.418291    -0.994972 -0.966272 -0.185226  1.792993 -0.863291   \n",
       "4       0.670579    -0.994960 -1.158233  0.877737  1.548718  0.403034   \n",
       "\n",
       "         V5        V6        V7        V8  ...       V20       V21       V22  \\\n",
       "0 -0.338321  0.462388  0.239599  0.098698  ...  0.251412 -0.018307  0.277838   \n",
       "1  0.060018 -0.082361 -0.078803  0.085102  ... -0.069083 -0.225775 -0.638672   \n",
       "2 -0.503198  1.800499  0.791461  0.247676  ...  0.524980  0.247998  0.771679   \n",
       "3 -0.010309  1.247203  0.237609  0.377436  ... -0.208038 -0.108300  0.005274   \n",
       "4 -0.407193  0.095921  0.592941 -0.270533  ...  0.408542 -0.009431  0.798278   \n",
       "\n",
       "        V23       V24       V25       V26       V27       V28  Class  \n",
       "0 -0.110474  0.066928  0.128539 -0.189115  0.133558 -0.021053      0  \n",
       "1  0.101288 -0.339846  0.167170  0.125895 -0.008983  0.014724      0  \n",
       "2  0.909412 -0.689281 -0.327642 -0.139097 -0.055353 -0.059752      0  \n",
       "3 -0.190321 -1.175575  0.647376 -0.221929  0.062723  0.061458      0  \n",
       "4 -0.137458  0.141267 -0.206010  0.502292  0.219422  0.215153      0  \n",
       "\n",
       "[5 rows x 31 columns]"
      ]
     },
     "execution_count": 13,
     "metadata": {},
     "output_type": "execute_result"
    }
   ],
   "source": [
    "curr_cols = df.columns.tolist()\n",
    "new_cols = curr_cols[-2:] + curr_cols[:-2]\n",
    "df = df[new_cols]\n",
    "df.head()"
   ]
  },
  {
   "cell_type": "markdown",
   "id": "be128dd0",
   "metadata": {},
   "source": [
    "## Splitting the data"
   ]
  },
  {
   "cell_type": "code",
   "execution_count": 14,
   "id": "e5987c64",
   "metadata": {},
   "outputs": [],
   "source": [
    "X = df.drop('Class', axis=1)\n",
    "y = df['Class']\n",
    "original_Xtrain, original_Xtest, original_ytrain, original_ytest = train_test_split(X, y, test_size=0.2,\n",
    "                                                                                    random_state=42, stratify=y)"
   ]
  },
  {
   "cell_type": "markdown",
   "id": "f4da8ea8",
   "metadata": {},
   "source": [
    "**Note:** `stratify` parameter ensures us equally-distribution split.<br>\n",
    "Morever, before proceeding data with the Random UnderSampling technique we have to separate out the original dataframe."
   ]
  },
  {
   "cell_type": "markdown",
   "id": "22ebc11d",
   "metadata": {},
   "source": [
    "## Random Under-Sampling"
   ]
  },
  {
   "cell_type": "code",
   "execution_count": 15,
   "id": "2bf192ae",
   "metadata": {},
   "outputs": [
    {
     "data": {
      "text/plain": [
       "Counter({0: 284315, 1: 492})"
      ]
     },
     "execution_count": 15,
     "metadata": {},
     "output_type": "execute_result"
    }
   ],
   "source": [
    "Counter(df.Class)"
   ]
  },
  {
   "cell_type": "code",
   "execution_count": 16,
   "id": "f08cb06d",
   "metadata": {},
   "outputs": [
    {
     "data": {
      "text/html": [
       "<div>\n",
       "<style scoped>\n",
       "    .dataframe tbody tr th:only-of-type {\n",
       "        vertical-align: middle;\n",
       "    }\n",
       "\n",
       "    .dataframe tbody tr th {\n",
       "        vertical-align: top;\n",
       "    }\n",
       "\n",
       "    .dataframe thead th {\n",
       "        text-align: right;\n",
       "    }\n",
       "</style>\n",
       "<table border=\"1\" class=\"dataframe\">\n",
       "  <thead>\n",
       "    <tr style=\"text-align: right;\">\n",
       "      <th></th>\n",
       "      <th>scaled_amount</th>\n",
       "      <th>scaled_time</th>\n",
       "      <th>V1</th>\n",
       "      <th>V2</th>\n",
       "      <th>V3</th>\n",
       "      <th>V4</th>\n",
       "      <th>V5</th>\n",
       "      <th>V6</th>\n",
       "      <th>V7</th>\n",
       "      <th>V8</th>\n",
       "      <th>...</th>\n",
       "      <th>V20</th>\n",
       "      <th>V21</th>\n",
       "      <th>V22</th>\n",
       "      <th>V23</th>\n",
       "      <th>V24</th>\n",
       "      <th>V25</th>\n",
       "      <th>V26</th>\n",
       "      <th>V27</th>\n",
       "      <th>V28</th>\n",
       "      <th>Class</th>\n",
       "    </tr>\n",
       "  </thead>\n",
       "  <tbody>\n",
       "    <tr>\n",
       "      <th>0</th>\n",
       "      <td>-0.296793</td>\n",
       "      <td>-0.026340</td>\n",
       "      <td>1.314539</td>\n",
       "      <td>0.590643</td>\n",
       "      <td>-0.666593</td>\n",
       "      <td>0.716564</td>\n",
       "      <td>0.301978</td>\n",
       "      <td>-1.125467</td>\n",
       "      <td>0.388881</td>\n",
       "      <td>-0.288390</td>\n",
       "      <td>...</td>\n",
       "      <td>-0.058040</td>\n",
       "      <td>-0.170307</td>\n",
       "      <td>-0.429655</td>\n",
       "      <td>-0.141341</td>\n",
       "      <td>-0.200195</td>\n",
       "      <td>0.639491</td>\n",
       "      <td>0.399476</td>\n",
       "      <td>-0.034321</td>\n",
       "      <td>0.031692</td>\n",
       "      <td>0</td>\n",
       "    </tr>\n",
       "    <tr>\n",
       "      <th>1</th>\n",
       "      <td>-0.249004</td>\n",
       "      <td>-0.401062</td>\n",
       "      <td>-0.798672</td>\n",
       "      <td>1.185093</td>\n",
       "      <td>0.904547</td>\n",
       "      <td>0.694584</td>\n",
       "      <td>0.219041</td>\n",
       "      <td>-0.319295</td>\n",
       "      <td>0.495236</td>\n",
       "      <td>0.139269</td>\n",
       "      <td>...</td>\n",
       "      <td>-0.081298</td>\n",
       "      <td>0.202287</td>\n",
       "      <td>0.578699</td>\n",
       "      <td>-0.092245</td>\n",
       "      <td>0.013723</td>\n",
       "      <td>-0.246466</td>\n",
       "      <td>-0.380057</td>\n",
       "      <td>-0.396030</td>\n",
       "      <td>-0.112901</td>\n",
       "      <td>0</td>\n",
       "    </tr>\n",
       "    <tr>\n",
       "      <th>2</th>\n",
       "      <td>-0.097813</td>\n",
       "      <td>-0.347361</td>\n",
       "      <td>-0.391128</td>\n",
       "      <td>-0.245540</td>\n",
       "      <td>1.122074</td>\n",
       "      <td>-1.308725</td>\n",
       "      <td>-0.639891</td>\n",
       "      <td>0.008678</td>\n",
       "      <td>-0.701304</td>\n",
       "      <td>-0.027315</td>\n",
       "      <td>...</td>\n",
       "      <td>0.065716</td>\n",
       "      <td>-0.133485</td>\n",
       "      <td>0.117403</td>\n",
       "      <td>-0.191748</td>\n",
       "      <td>-0.488642</td>\n",
       "      <td>-0.309774</td>\n",
       "      <td>0.008100</td>\n",
       "      <td>0.163716</td>\n",
       "      <td>0.239582</td>\n",
       "      <td>0</td>\n",
       "    </tr>\n",
       "    <tr>\n",
       "      <th>3</th>\n",
       "      <td>0.489066</td>\n",
       "      <td>0.374534</td>\n",
       "      <td>-0.060302</td>\n",
       "      <td>1.065093</td>\n",
       "      <td>-0.987421</td>\n",
       "      <td>-0.029567</td>\n",
       "      <td>0.176376</td>\n",
       "      <td>-1.348539</td>\n",
       "      <td>0.775644</td>\n",
       "      <td>0.134843</td>\n",
       "      <td>...</td>\n",
       "      <td>-0.169706</td>\n",
       "      <td>0.355576</td>\n",
       "      <td>0.907570</td>\n",
       "      <td>-0.018454</td>\n",
       "      <td>-0.126269</td>\n",
       "      <td>-0.339923</td>\n",
       "      <td>-0.150285</td>\n",
       "      <td>-0.023634</td>\n",
       "      <td>0.042330</td>\n",
       "      <td>0</td>\n",
       "    </tr>\n",
       "    <tr>\n",
       "      <th>4</th>\n",
       "      <td>-0.307413</td>\n",
       "      <td>0.067458</td>\n",
       "      <td>1.848433</td>\n",
       "      <td>0.373364</td>\n",
       "      <td>0.269272</td>\n",
       "      <td>3.866438</td>\n",
       "      <td>0.088062</td>\n",
       "      <td>0.970447</td>\n",
       "      <td>-0.721945</td>\n",
       "      <td>0.235983</td>\n",
       "      <td>...</td>\n",
       "      <td>-0.282777</td>\n",
       "      <td>0.103563</td>\n",
       "      <td>0.620954</td>\n",
       "      <td>0.197077</td>\n",
       "      <td>0.692392</td>\n",
       "      <td>-0.206530</td>\n",
       "      <td>-0.021328</td>\n",
       "      <td>-0.019823</td>\n",
       "      <td>-0.042682</td>\n",
       "      <td>0</td>\n",
       "    </tr>\n",
       "  </tbody>\n",
       "</table>\n",
       "<p>5 rows × 31 columns</p>\n",
       "</div>"
      ],
      "text/plain": [
       "   scaled_amount  scaled_time        V1        V2        V3        V4  \\\n",
       "0      -0.296793    -0.026340  1.314539  0.590643 -0.666593  0.716564   \n",
       "1      -0.249004    -0.401062 -0.798672  1.185093  0.904547  0.694584   \n",
       "2      -0.097813    -0.347361 -0.391128 -0.245540  1.122074 -1.308725   \n",
       "3       0.489066     0.374534 -0.060302  1.065093 -0.987421 -0.029567   \n",
       "4      -0.307413     0.067458  1.848433  0.373364  0.269272  3.866438   \n",
       "\n",
       "         V5        V6        V7        V8  ...       V20       V21       V22  \\\n",
       "0  0.301978 -1.125467  0.388881 -0.288390  ... -0.058040 -0.170307 -0.429655   \n",
       "1  0.219041 -0.319295  0.495236  0.139269  ... -0.081298  0.202287  0.578699   \n",
       "2 -0.639891  0.008678 -0.701304 -0.027315  ...  0.065716 -0.133485  0.117403   \n",
       "3  0.176376 -1.348539  0.775644  0.134843  ... -0.169706  0.355576  0.907570   \n",
       "4  0.088062  0.970447 -0.721945  0.235983  ... -0.282777  0.103563  0.620954   \n",
       "\n",
       "        V23       V24       V25       V26       V27       V28  Class  \n",
       "0 -0.141341 -0.200195  0.639491  0.399476 -0.034321  0.031692      0  \n",
       "1 -0.092245  0.013723 -0.246466 -0.380057 -0.396030 -0.112901      0  \n",
       "2 -0.191748 -0.488642 -0.309774  0.008100  0.163716  0.239582      0  \n",
       "3 -0.018454 -0.126269 -0.339923 -0.150285 -0.023634  0.042330      0  \n",
       "4  0.197077  0.692392 -0.206530 -0.021328 -0.019823 -0.042682      0  \n",
       "\n",
       "[5 rows x 31 columns]"
      ]
     },
     "execution_count": 16,
     "metadata": {},
     "output_type": "execute_result"
    }
   ],
   "source": [
    "rus = RandomUnderSampler(random_state=42)\n",
    "X_res, y_res = rus.fit_resample(X, y)\n",
    "new_df = pd.concat([X_res, y_res], axis=1)\n",
    "new_df.head()"
   ]
  },
  {
   "cell_type": "code",
   "execution_count": 17,
   "id": "2a34cbc4",
   "metadata": {},
   "outputs": [
    {
     "data": {
      "text/plain": [
       "Counter({0: 492, 1: 492})"
      ]
     },
     "execution_count": 17,
     "metadata": {},
     "output_type": "execute_result"
    }
   ],
   "source": [
    "Counter(new_df.Class)"
   ]
  },
  {
   "cell_type": "markdown",
   "id": "8af99983",
   "metadata": {},
   "source": [
    "## Resampled Class Distribution"
   ]
  },
  {
   "cell_type": "code",
   "execution_count": 18,
   "id": "0cf9319b",
   "metadata": {},
   "outputs": [
    {
     "data": {
      "image/png": "[encoded data removed]",
      "text/plain": [
       "<Figure size 504x360 with 1 Axes>"
      ]
     },
     "metadata": {
      "needs_background": "light"
     },
     "output_type": "display_data"
    }
   ],
   "source": [
    "plt.figure(figsize=(7, 5))\n",
    "sns.countplot('Class', data=new_df);"
   ]
  },
  {
   "cell_type": "markdown",
   "id": "77c781c1",
   "metadata": {},
   "source": [
    "## Features Matrix Correlation"
   ]
  },
  {
   "cell_type": "code",
   "execution_count": 19,
   "id": "3931737a",
   "metadata": {},
   "outputs": [
    {
     "data": {
      "image/png": "[encoded data removed]",
      "text/plain": [
       "<Figure size 1080x720 with 2 Axes>"
      ]
     },
     "metadata": {
      "needs_background": "light"
     },
     "output_type": "display_data"
    }
   ],
   "source": [
    "plt.subplots(figsize = (15, 10))\n",
    "mask = np.zeros_like(new_df.corr(), dtype=np.bool)\n",
    "mask[np.triu_indices_from(mask)] = True\n",
    "\n",
    "sns.heatmap(new_df.corr(), cmap=\"Blues\", \n",
    "            mask = mask, square=True);\n",
    "plt.title(\"Heatmap of all the Features\", fontsize=15);"
   ]
  },
  {
   "cell_type": "markdown",
   "id": "364858b9",
   "metadata": {},
   "source": [
    " - **Negative Correlations:** V17, V14, V12 and V10 are negatively correlated with Class. Notice how the lower these values are, the more likely the end result will be a fraud transaction.\n",
    "\n",
    "- **Positive Correlations:** V2, V4, V11, and V19 are positively correlated with Class. Notice how the higher these values are, the more likely the end result will be a fraud transaction."
   ]
  },
  {
   "cell_type": "code",
   "execution_count": 20,
   "id": "ae933083",
   "metadata": {},
   "outputs": [],
   "source": [
    "def show_corr(df, features, ncol):\n",
    "    fig = plt.figure(constrained_layout=True, figsize=(12, 4))\n",
    "    grid = gridspec.GridSpec(ncols=ncol, nrows=1, figure=fig)\n",
    "    \n",
    "    for idx, feature in enumerate(features):\n",
    "        ax = fig.add_subplot(grid[0, idx])\n",
    "        ax.set_title('%s vs Class' % feature)\n",
    "        sns.boxplot(x=df.Class, y=df.loc[:, feature], ax=ax)"
   ]
  },
  {
   "cell_type": "markdown",
   "id": "78140f75",
   "metadata": {},
   "source": [
    "**Negative Correlations:**"
   ]
  },
  {
   "cell_type": "code",
   "execution_count": 21,
   "id": "dedec47a",
   "metadata": {},
   "outputs": [
    {
     "data": {
      "image/png": "[encoded data removed]",
      "text/plain": [
       "<Figure size 864x288 with 4 Axes>"
      ]
     },
     "metadata": {
      "needs_background": "light"
     },
     "output_type": "display_data"
    }
   ],
   "source": [
    "show_corr(new_df, features=['V17', 'V14', 'V12', 'V10'], ncol=4)"
   ]
  },
  {
   "cell_type": "markdown",
   "id": "e82bf802",
   "metadata": {},
   "source": [
    "**Positive Correlations:**"
   ]
  },
  {
   "cell_type": "code",
   "execution_count": 22,
   "id": "0e40e0ea",
   "metadata": {},
   "outputs": [
    {
     "data": {
      "image/png": "[encoded data removed]",
      "text/plain": [
       "<Figure size 864x288 with 4 Axes>"
      ]
     },
     "metadata": {
      "needs_background": "light"
     },
     "output_type": "display_data"
    }
   ],
   "source": [
    "show_corr(new_df, features=['V2', 'V4', 'V11', 'V19'], ncol=4)"
   ]
  },
  {
   "cell_type": "markdown",
   "id": "0297723b",
   "metadata": {},
   "source": [
    "## Removing outliers"
   ]
  },
  {
   "cell_type": "markdown",
   "id": "1d3f465d",
   "metadata": {},
   "source": [
    "**Note:** Our main aim in this section is to remove outliers from features that have a high correlation with our classes. This will have a positive impact on the accuracy of our models."
   ]
  },
  {
   "cell_type": "code",
   "execution_count": 23,
   "id": "4c8654aa",
   "metadata": {},
   "outputs": [],
   "source": [
    "def remove_outliers(new_df, features):\n",
    "    Q1 = new_df[features].quantile(0.25)\n",
    "    Q3 = new_df[features].quantile(0.75)\n",
    "    IQR = Q3 - Q1\n",
    "    return new_df[~((new_df[features] < (Q1 - 1.5 * IQR)) |(new_df[features] > (Q3 + 1.5 * IQR))).any(axis=1)]        "
   ]
  },
  {
   "cell_type": "code",
   "execution_count": 24,
   "id": "a41733a9",
   "metadata": {},
   "outputs": [
    {
     "data": {
      "image/png": "[encoded data removed]",
      "text/plain": [
       "<Figure size 864x288 with 4 Axes>"
      ]
     },
     "metadata": {
      "needs_background": "light"
     },
     "output_type": "display_data"
    }
   ],
   "source": [
    "new_df = remove_outliers(new_df=new_df, features=['V17', 'V14', 'V12', 'V10'])\n",
    "show_corr(new_df, features=['V17', 'V14', 'V12', 'V10'], ncol=4)"
   ]
  },
  {
   "cell_type": "code",
   "execution_count": 25,
   "id": "4d057f99",
   "metadata": {},
   "outputs": [
    {
     "data": {
      "image/png": "[encoded data removed]",
      "text/plain": [
       "<Figure size 864x288 with 4 Axes>"
      ]
     },
     "metadata": {
      "needs_background": "light"
     },
     "output_type": "display_data"
    }
   ],
   "source": [
    "new_df = remove_outliers(new_df=new_df, features=['V2', 'V4', 'V11', 'V19'])\n",
    "show_corr(new_df, features=['V2', 'V4', 'V11', 'V19'], ncol=4)"
   ]
  },
  {
   "cell_type": "markdown",
   "id": "3d657221",
   "metadata": {},
   "source": [
    "# Modeling (RandomUnderSampled Data)"
   ]
  },
  {
   "cell_type": "markdown",
   "id": "cf2f6177",
   "metadata": {},
   "source": [
    "## Training Model"
   ]
  },
  {
   "cell_type": "code",
   "execution_count": 26,
   "id": "8194fc36",
   "metadata": {},
   "outputs": [],
   "source": [
    "X = new_df.drop('Class', axis=1)\n",
    "y = new_df['Class']\n",
    "X_train, X_test, y_train, y_test = train_test_split(X, y, test_size=0.2, random_state=42)"
   ]
  },
  {
   "cell_type": "code",
   "execution_count": 27,
   "id": "4aeb4128",
   "metadata": {},
   "outputs": [],
   "source": [
    "def create_models():\n",
    "    logreg = LogisticRegression()\n",
    "    svc = SVC()\n",
    "    rfc = RandomForestClassifier()\n",
    "    xgb = XGBClassifier(eval_metric='mlogloss')\n",
    "    \n",
    "    return [logreg, svc, rfc, xgb]"
   ]
  },
  {
   "cell_type": "code",
   "execution_count": 28,
   "id": "c6d9a750",
   "metadata": {},
   "outputs": [],
   "source": [
    "def fit_models(X_train, y_train, models):\n",
    "    kfold = KFold(n_splits=5, shuffle=True, random_state=42)\n",
    "    scoring = {'precision': 'precision_macro',\n",
    "               'recall': 'recall_macro',\n",
    "               'accuracy': 'accuracy',\n",
    "               'auc': 'roc_auc'}\n",
    "    cv_results = []\n",
    "    \n",
    "    for model in models:\n",
    "        cv_model = cross_validate(model, X_train, y_train, scoring=scoring, cv=kfold)\n",
    "        cv_results.append([cv_model['test_precision'].mean(), cv_model['test_recall'].mean(),\n",
    "                           cv_model['test_accuracy'].mean(), cv_model['test_auc'].mean()])\n",
    "    \n",
    "    return cv_results"
   ]
  },
  {
   "cell_type": "code",
   "execution_count": 29,
   "id": "43ce1841",
   "metadata": {},
   "outputs": [],
   "source": [
    "def show_cv_results(cv_results):\n",
    "    cvr_df = pd.DataFrame(index=['Logisitc Regression', 'SVM', 'Random Forest', 'XGBoost'],\n",
    "                          data=cv_results, columns=['precision', 'recall', 'accuracy', 'AUC'])\n",
    "    return cvr_df"
   ]
  },
  {
   "cell_type": "code",
   "execution_count": 30,
   "id": "8653ffe4",
   "metadata": {},
   "outputs": [
    {
     "data": {
      "text/html": [
       "<div>\n",
       "<style scoped>\n",
       "    .dataframe tbody tr th:only-of-type {\n",
       "        vertical-align: middle;\n",
       "    }\n",
       "\n",
       "    .dataframe tbody tr th {\n",
       "        vertical-align: top;\n",
       "    }\n",
       "\n",
       "    .dataframe thead th {\n",
       "        text-align: right;\n",
       "    }\n",
       "</style>\n",
       "<table border=\"1\" class=\"dataframe\">\n",
       "  <thead>\n",
       "    <tr style=\"text-align: right;\">\n",
       "      <th></th>\n",
       "      <th>precision</th>\n",
       "      <th>recall</th>\n",
       "      <th>accuracy</th>\n",
       "      <th>AUC</th>\n",
       "    </tr>\n",
       "  </thead>\n",
       "  <tbody>\n",
       "    <tr>\n",
       "      <th>Logisitc Regression</th>\n",
       "      <td>0.936081</td>\n",
       "      <td>0.926463</td>\n",
       "      <td>0.934996</td>\n",
       "      <td>0.974623</td>\n",
       "    </tr>\n",
       "    <tr>\n",
       "      <th>SVM</th>\n",
       "      <td>0.941360</td>\n",
       "      <td>0.916463</td>\n",
       "      <td>0.931821</td>\n",
       "      <td>0.973010</td>\n",
       "    </tr>\n",
       "    <tr>\n",
       "      <th>Random Forest</th>\n",
       "      <td>0.940657</td>\n",
       "      <td>0.919955</td>\n",
       "      <td>0.933421</td>\n",
       "      <td>0.967934</td>\n",
       "    </tr>\n",
       "    <tr>\n",
       "      <th>XGBoost</th>\n",
       "      <td>0.934018</td>\n",
       "      <td>0.922642</td>\n",
       "      <td>0.931821</td>\n",
       "      <td>0.967348</td>\n",
       "    </tr>\n",
       "  </tbody>\n",
       "</table>\n",
       "</div>"
      ],
      "text/plain": [
       "                     precision    recall  accuracy       AUC\n",
       "Logisitc Regression   0.936081  0.926463  0.934996  0.974623\n",
       "SVM                   0.941360  0.916463  0.931821  0.973010\n",
       "Random Forest         0.940657  0.919955  0.933421  0.967934\n",
       "XGBoost               0.934018  0.922642  0.931821  0.967348"
      ]
     },
     "execution_count": 30,
     "metadata": {},
     "output_type": "execute_result"
    }
   ],
   "source": [
    "models = create_models()\n",
    "cv_results = fit_models(X_train, y_train, models)\n",
    "show_cv_results(cv_results)"
   ]
  },
  {
   "cell_type": "markdown",
   "id": "cacc43f0",
   "metadata": {},
   "source": [
    "**Note:** Almost all classifiers achieved quite similar scores on the resampled training data. For further analysis, I decided to use only one out of the four classifiers I tested before. My choice is XGBoost, mainly because of the fact that it is widely known for its superiority over the other classification alghoritms."
   ]
  },
  {
   "cell_type": "markdown",
   "id": "1f4fe677",
   "metadata": {},
   "source": [
    "## Hyperparameter Tuning using Bayesian Optimization"
   ]
  },
  {
   "cell_type": "code",
   "execution_count": 31,
   "id": "dc3c895b",
   "metadata": {},
   "outputs": [],
   "source": [
    "def xgb_bayes_opt(max_depth, learning_rate, n_estimators, subsample, gamma):\n",
    "    params_xgb = {}\n",
    "    params_xgb['max_depth'] = round(max_depth)\n",
    "    params_xgb['learning_rate'] = learning_rate\n",
    "    params_xgb['n_estimators'] = round(n_estimators)\n",
    "    params_xgb['subsample'] = subsample\n",
    "    params_xgb['gamma'] = gamma\n",
    "    \n",
    "    return cross_val_score(XGBClassifier(eval_metric='mlogloss', **params_xgb),\n",
    "                           X_train, y_train, cv=5, scoring='roc_auc').mean()"
   ]
  },
  {
   "cell_type": "code",
   "execution_count": 32,
   "id": "f2761445",
   "metadata": {},
   "outputs": [
    {
     "name": "stdout",
     "output_type": "stream",
     "text": [
      "|   iter    |  target   |   gamma   | learni... | max_depth | n_esti... | subsample |\n",
      "-------------------------------------------------------------------------------------\n",
      "| \u001b[0m 1       \u001b[0m | \u001b[0m 0.9574  \u001b[0m | \u001b[0m 1.873   \u001b[0m | \u001b[0m 0.9512  \u001b[0m | \u001b[0m 8.392   \u001b[0m | \u001b[0m 638.8   \u001b[0m | \u001b[0m 0.578   \u001b[0m |\n",
      "| \u001b[95m 2       \u001b[0m | \u001b[95m 0.9747  \u001b[0m | \u001b[95m 0.78    \u001b[0m | \u001b[95m 0.0675  \u001b[0m | \u001b[95m 9.197   \u001b[0m | \u001b[95m 641.0   \u001b[0m | \u001b[95m 0.854   \u001b[0m |\n",
      "| \u001b[0m 3       \u001b[0m | \u001b[0m 0.9668  \u001b[0m | \u001b[0m 0.1029  \u001b[0m | \u001b[0m 0.9702  \u001b[0m | \u001b[0m 8.995   \u001b[0m | \u001b[0m 291.1   \u001b[0m | \u001b[0m 0.5909  \u001b[0m |\n",
      "| \u001b[0m 4       \u001b[0m | \u001b[0m 0.9723  \u001b[0m | \u001b[0m 0.917   \u001b[0m | \u001b[0m 0.3112  \u001b[0m | \u001b[0m 7.149   \u001b[0m | \u001b[0m 488.8   \u001b[0m | \u001b[0m 0.6456  \u001b[0m |\n",
      "| \u001b[0m 5       \u001b[0m | \u001b[0m 0.9726  \u001b[0m | \u001b[0m 3.059   \u001b[0m | \u001b[0m 0.1481  \u001b[0m | \u001b[0m 5.753   \u001b[0m | \u001b[0m 429.7   \u001b[0m | \u001b[0m 0.728   \u001b[0m |\n",
      "| \u001b[0m 6       \u001b[0m | \u001b[0m 0.9743  \u001b[0m | \u001b[0m 3.293   \u001b[0m | \u001b[0m 0.08483 \u001b[0m | \u001b[0m 5.763   \u001b[0m | \u001b[0m 429.6   \u001b[0m | \u001b[0m 0.7593  \u001b[0m |\n",
      "| \u001b[0m 7       \u001b[0m | \u001b[0m 0.9623  \u001b[0m | \u001b[0m 4.674   \u001b[0m | \u001b[0m 0.497   \u001b[0m | \u001b[0m 5.684   \u001b[0m | \u001b[0m 429.0   \u001b[0m | \u001b[0m 0.5084  \u001b[0m |\n",
      "| \u001b[0m 8       \u001b[0m | \u001b[0m 0.9692  \u001b[0m | \u001b[0m 0.2317  \u001b[0m | \u001b[0m 0.4964  \u001b[0m | \u001b[0m 8.944   \u001b[0m | \u001b[0m 641.8   \u001b[0m | \u001b[0m 0.5572  \u001b[0m |\n",
      "| \u001b[0m 9       \u001b[0m | \u001b[0m 0.964   \u001b[0m | \u001b[0m 1.396   \u001b[0m | \u001b[0m 0.9921  \u001b[0m | \u001b[0m 9.828   \u001b[0m | \u001b[0m 640.7   \u001b[0m | \u001b[0m 0.7107  \u001b[0m |\n",
      "| \u001b[0m 10      \u001b[0m | \u001b[0m 0.9731  \u001b[0m | \u001b[0m 1.632   \u001b[0m | \u001b[0m 0.107   \u001b[0m | \u001b[0m 9.346   \u001b[0m | \u001b[0m 641.7   \u001b[0m | \u001b[0m 0.9257  \u001b[0m |\n",
      "| \u001b[0m 11      \u001b[0m | \u001b[0m 0.9677  \u001b[0m | \u001b[0m 3.105   \u001b[0m | \u001b[0m 0.01    \u001b[0m | \u001b[0m 6.295   \u001b[0m | \u001b[0m 429.0   \u001b[0m | \u001b[0m 1.0     \u001b[0m |\n",
      "| \u001b[0m 12      \u001b[0m | \u001b[0m 0.9738  \u001b[0m | \u001b[0m 1.386   \u001b[0m | \u001b[0m 0.1899  \u001b[0m | \u001b[0m 9.145   \u001b[0m | \u001b[0m 641.2   \u001b[0m | \u001b[0m 0.5078  \u001b[0m |\n",
      "| \u001b[0m 13      \u001b[0m | \u001b[0m 0.9618  \u001b[0m | \u001b[0m 3.445   \u001b[0m | \u001b[0m 0.6568  \u001b[0m | \u001b[0m 4.771   \u001b[0m | \u001b[0m 430.1   \u001b[0m | \u001b[0m 0.6844  \u001b[0m |\n",
      "| \u001b[95m 14      \u001b[0m | \u001b[95m 0.9754  \u001b[0m | \u001b[95m 1.217   \u001b[0m | \u001b[95m 0.06388 \u001b[0m | \u001b[95m 8.499   \u001b[0m | \u001b[95m 640.4   \u001b[0m | \u001b[95m 0.8192  \u001b[0m |\n",
      "| \u001b[0m 15      \u001b[0m | \u001b[0m 0.9636  \u001b[0m | \u001b[0m 1.768   \u001b[0m | \u001b[0m 0.6221  \u001b[0m | \u001b[0m 8.56    \u001b[0m | \u001b[0m 641.3   \u001b[0m | \u001b[0m 0.6795  \u001b[0m |\n",
      "| \u001b[0m 16      \u001b[0m | \u001b[0m 0.9707  \u001b[0m | \u001b[0m 1.357   \u001b[0m | \u001b[0m 0.6551  \u001b[0m | \u001b[0m 4.373   \u001b[0m | \u001b[0m 772.4   \u001b[0m | \u001b[0m 0.9796  \u001b[0m |\n",
      "| \u001b[0m 17      \u001b[0m | \u001b[0m 0.9736  \u001b[0m | \u001b[0m 0.3732  \u001b[0m | \u001b[0m 0.2082  \u001b[0m | \u001b[0m 9.066   \u001b[0m | \u001b[0m 640.5   \u001b[0m | \u001b[0m 0.6798  \u001b[0m |\n",
      "| \u001b[0m 18      \u001b[0m | \u001b[0m 0.9747  \u001b[0m | \u001b[0m 0.9402  \u001b[0m | \u001b[0m 0.1384  \u001b[0m | \u001b[0m 8.38    \u001b[0m | \u001b[0m 639.7   \u001b[0m | \u001b[0m 0.8316  \u001b[0m |\n",
      "| \u001b[0m 19      \u001b[0m | \u001b[0m 0.9645  \u001b[0m | \u001b[0m 0.8835  \u001b[0m | \u001b[0m 0.9681  \u001b[0m | \u001b[0m 7.65    \u001b[0m | \u001b[0m 489.6   \u001b[0m | \u001b[0m 0.887   \u001b[0m |\n",
      "| \u001b[0m 20      \u001b[0m | \u001b[0m 0.9694  \u001b[0m | \u001b[0m 0.9159  \u001b[0m | \u001b[0m 0.6209  \u001b[0m | \u001b[0m 7.562   \u001b[0m | \u001b[0m 639.8   \u001b[0m | \u001b[0m 0.5246  \u001b[0m |\n",
      "| \u001b[0m 21      \u001b[0m | \u001b[0m 0.9747  \u001b[0m | \u001b[0m 0.3594  \u001b[0m | \u001b[0m 0.2685  \u001b[0m | \u001b[0m 8.128   \u001b[0m | \u001b[0m 641.0   \u001b[0m | \u001b[0m 0.8907  \u001b[0m |\n",
      "| \u001b[0m 22      \u001b[0m | \u001b[0m 0.9677  \u001b[0m | \u001b[0m 0.2919  \u001b[0m | \u001b[0m 0.4408  \u001b[0m | \u001b[0m 7.583   \u001b[0m | \u001b[0m 488.0   \u001b[0m | \u001b[0m 0.547   \u001b[0m |\n",
      "| \u001b[0m 23      \u001b[0m | \u001b[0m 0.9746  \u001b[0m | \u001b[0m 1.095   \u001b[0m | \u001b[0m 0.1946  \u001b[0m | \u001b[0m 8.837   \u001b[0m | \u001b[0m 640.6   \u001b[0m | \u001b[0m 0.5715  \u001b[0m |\n",
      "| \u001b[95m 24      \u001b[0m | \u001b[95m 0.9756  \u001b[0m | \u001b[95m 0.7333  \u001b[0m | \u001b[95m 0.09348 \u001b[0m | \u001b[95m 8.235   \u001b[0m | \u001b[95m 640.6   \u001b[0m | \u001b[95m 0.8407  \u001b[0m |\n",
      "| \u001b[0m 25      \u001b[0m | \u001b[0m 0.9698  \u001b[0m | \u001b[0m 1.207   \u001b[0m | \u001b[0m 0.4697  \u001b[0m | \u001b[0m 5.856   \u001b[0m | \u001b[0m 487.9   \u001b[0m | \u001b[0m 0.7391  \u001b[0m |\n",
      "| \u001b[0m 26      \u001b[0m | \u001b[0m 0.9691  \u001b[0m | \u001b[0m 1.476   \u001b[0m | \u001b[0m 0.4517  \u001b[0m | \u001b[0m 9.903   \u001b[0m | \u001b[0m 643.3   \u001b[0m | \u001b[0m 0.772   \u001b[0m |\n",
      "| \u001b[95m 27      \u001b[0m | \u001b[95m 0.976   \u001b[0m | \u001b[95m 0.2648  \u001b[0m | \u001b[95m 0.1863  \u001b[0m | \u001b[95m 6.377   \u001b[0m | \u001b[95m 640.7   \u001b[0m | \u001b[95m 0.7796  \u001b[0m |\n",
      "| \u001b[0m 28      \u001b[0m | \u001b[0m 0.9716  \u001b[0m | \u001b[0m 0.01277 \u001b[0m | \u001b[0m 0.6277  \u001b[0m | \u001b[0m 7.255   \u001b[0m | \u001b[0m 641.5   \u001b[0m | \u001b[0m 0.6939  \u001b[0m |\n",
      "| \u001b[0m 29      \u001b[0m | \u001b[0m 0.9679  \u001b[0m | \u001b[0m 0.2092  \u001b[0m | \u001b[0m 0.9565  \u001b[0m | \u001b[0m 6.218   \u001b[0m | \u001b[0m 640.1   \u001b[0m | \u001b[0m 0.9881  \u001b[0m |\n",
      "| \u001b[0m 30      \u001b[0m | \u001b[0m 0.97    \u001b[0m | \u001b[0m 0.3522  \u001b[0m | \u001b[0m 0.8138  \u001b[0m | \u001b[0m 8.457   \u001b[0m | \u001b[0m 640.3   \u001b[0m | \u001b[0m 0.6751  \u001b[0m |\n",
      "=====================================================================================\n"
     ]
    },
    {
     "data": {
      "text/plain": [
       "{'gamma': 0.2647628903796234,\n",
       " 'learning_rate': 0.18630527754206394,\n",
       " 'max_depth': 6,\n",
       " 'n_estimators': 641,\n",
       " 'subsample': 0.7796431247224216}"
      ]
     },
     "execution_count": 32,
     "metadata": {},
     "output_type": "execute_result"
    }
   ],
   "source": [
    "params_bounds = {'learning_rate': (0.01, 1.0),\n",
    "                 'n_estimators': (100.0, 1000.0),\n",
    "                 'max_depth': (4.0,10.0), \n",
    "                 'subsample': (0.5, 1.0),\n",
    "                 'gamma': (0.0, 5.0)}\n",
    "\n",
    "optimizer = BayesianOptimization(f=xgb_bayes_opt, pbounds=params_bounds, random_state=42) \n",
    "optimizer.maximize()\n",
    "params_result = optimizer.max['params']\n",
    "params_result['max_depth'] = round(params_result['max_depth'])\n",
    "params_result['n_estimators'] = round(params_result['n_estimators'])\n",
    "params_result"
   ]
  },
  {
   "cell_type": "code",
   "execution_count": 33,
   "id": "ff4d88f6",
   "metadata": {},
   "outputs": [],
   "source": [
    "xgb = XGBClassifier(eval_metric='mlogloss', **params_result)"
   ]
  },
  {
   "cell_type": "markdown",
   "id": "66fb16a0",
   "metadata": {},
   "source": [
    "## Hyperparameter Tuning using HyperOpt"
   ]
  },
  {
   "cell_type": "code",
   "execution_count": 34,
   "id": "61b760c2",
   "metadata": {},
   "outputs": [],
   "source": [
    "from hyperopt import hp, fmin, tpe, Trials, STATUS_OK\n",
    "\n",
    "params_bounds = {'learning_rate': hp.uniform('learning_rate', 0.01, 1.0),\n",
    "                 'n_estimators': hp.uniform('n_estimators', 100.0, 1000.0),\n",
    "                 'max_depth': hp.uniform('max_depth', 4.0, 10.0), \n",
    "                 'subsample': hp.uniform('subsample', 0.5, 1.0),\n",
    "                 'gamma': hp.uniform('gamma', 0.0, 5.0)}"
   ]
  },
  {
   "cell_type": "code",
   "execution_count": 35,
   "id": "0b1b19d0",
   "metadata": {},
   "outputs": [],
   "source": [
    "def fun(params_bounds):\n",
    "    model = XGBClassifier(eval_metric='mlogloss',\n",
    "                          learning_rate = params_bounds['learning_rate'],\n",
    "                          n_estimators = round(params_bounds['n_estimators']),\n",
    "                          max_depth = round(params_bounds['max_depth']),\n",
    "                          subsample = params_bounds['subsample'],\n",
    "                          gamma = params_bounds['gamma'])\n",
    "    score = cross_val_score(model, X_train, y_train, cv=5, scoring='roc_auc', error_score='raise').mean()\n",
    "    \n",
    "    return {'loss': -score, 'status': STATUS_OK}"
   ]
  },
  {
   "cell_type": "code",
   "execution_count": 36,
   "id": "12887248",
   "metadata": {
    "scrolled": true
   },
   "outputs": [
    {
     "name": "stdout",
     "output_type": "stream",
     "text": [
      "100%|████████████████████████████████████████████████| 30/30 [01:03<00:00,  2.12s/trial, best loss: -0.975454109382681]\n"
     ]
    },
    {
     "data": {
      "text/plain": [
       "{'gamma': 3.43587888515421,\n",
       " 'learning_rate': 0.3077560707565117,\n",
       " 'max_depth': 10,\n",
       " 'n_estimators': 996,\n",
       " 'subsample': 0.8388029886721918}"
      ]
     },
     "execution_count": 36,
     "metadata": {},
     "output_type": "execute_result"
    }
   ],
   "source": [
    "trials = Trials()\n",
    "best = fmin(fn=fun,\n",
    "            space=params_bounds,\n",
    "            algo=tpe.suggest,\n",
    "            max_evals=30,\n",
    "            trials=trials)\n",
    "best['max_depth'] = round(best['max_depth'])\n",
    "best['n_estimators'] = round(best['n_estimators'])\n",
    "best"
   ]
  },
  {
   "cell_type": "markdown",
   "id": "07d1c63c",
   "metadata": {},
   "source": [
    "**Note**: We will use params from the BayesianOptimization anyway. HyperOpt is just for the presentation case as an alternative library, in general results should be similar."
   ]
  },
  {
   "cell_type": "markdown",
   "id": "81fe44f6",
   "metadata": {},
   "source": [
    "## Feature Importances"
   ]
  },
  {
   "cell_type": "code",
   "execution_count": 37,
   "id": "96f32180",
   "metadata": {},
   "outputs": [
    {
     "data": {
      "image/png": "[encoded data removed]",
      "text/plain": [
       "<Figure size 648x432 with 1 Axes>"
      ]
     },
     "metadata": {
      "needs_background": "light"
     },
     "output_type": "display_data"
    }
   ],
   "source": [
    "xgb.fit(X_train, y_train)\n",
    "feat_importances = pd.Series(xgb.feature_importances_, index=X_train.columns).sort_values().nlargest(10)\n",
    "feat_importances.sort_values().plot(kind='barh', figsize=[9, 6]);"
   ]
  },
  {
   "cell_type": "markdown",
   "id": "cd246c74",
   "metadata": {},
   "source": [
    "## Testing Model"
   ]
  },
  {
   "cell_type": "markdown",
   "id": "cfcebec1",
   "metadata": {},
   "source": [
    "**Note:** Change\n",
    "to the class distribution is only applied to the training dataset. The intent is to influence the fit\n",
    "of the models. The sampling is not applied to the test dataset used to evaluate the\n",
    "performance of a model. Now, we use the whole original dataset to **predict** results."
   ]
  },
  {
   "cell_type": "code",
   "execution_count": 38,
   "id": "afdc8cfa",
   "metadata": {},
   "outputs": [],
   "source": [
    "xgb.fit(X_train, y_train)\n",
    "prediction = xgb.predict(original_Xtest)"
   ]
  },
  {
   "cell_type": "code",
   "execution_count": 39,
   "id": "96921972",
   "metadata": {},
   "outputs": [
    {
     "data": {
      "text/html": [
       "<div>\n",
       "<style scoped>\n",
       "    .dataframe tbody tr th:only-of-type {\n",
       "        vertical-align: middle;\n",
       "    }\n",
       "\n",
       "    .dataframe tbody tr th {\n",
       "        vertical-align: top;\n",
       "    }\n",
       "\n",
       "    .dataframe thead th {\n",
       "        text-align: right;\n",
       "    }\n",
       "</style>\n",
       "<table border=\"1\" class=\"dataframe\">\n",
       "  <thead>\n",
       "    <tr style=\"text-align: right;\">\n",
       "      <th></th>\n",
       "      <th>XGBoost</th>\n",
       "    </tr>\n",
       "  </thead>\n",
       "  <tbody>\n",
       "    <tr>\n",
       "      <th>precision</th>\n",
       "      <td>0.045898</td>\n",
       "    </tr>\n",
       "    <tr>\n",
       "      <th>recall</th>\n",
       "      <td>0.959184</td>\n",
       "    </tr>\n",
       "    <tr>\n",
       "      <th>accuracy</th>\n",
       "      <td>0.965626</td>\n",
       "    </tr>\n",
       "    <tr>\n",
       "      <th>AUC</th>\n",
       "      <td>0.962410</td>\n",
       "    </tr>\n",
       "  </tbody>\n",
       "</table>\n",
       "</div>"
      ],
      "text/plain": [
       "            XGBoost\n",
       "precision  0.045898\n",
       "recall     0.959184\n",
       "accuracy   0.965626\n",
       "AUC        0.962410"
      ]
     },
     "execution_count": 39,
     "metadata": {},
     "output_type": "execute_result"
    }
   ],
   "source": [
    "from sklearn.metrics import accuracy_score, recall_score, precision_score, roc_auc_score, f1_score\n",
    "\n",
    "data=[[precision_score(original_ytest, prediction),\n",
    "       recall_score(original_ytest, prediction),\n",
    "       accuracy_score(original_ytest, prediction),\n",
    "       roc_auc_score(original_ytest, prediction)]]\n",
    "result_df = pd.DataFrame(index=['XGBoost'],\n",
    "                         data=data, columns=['precision', 'recall', 'accuracy', 'AUC']).T\n",
    "result_df"
   ]
  },
  {
   "cell_type": "code",
   "execution_count": 40,
   "id": "808590d0",
   "metadata": {},
   "outputs": [
    {
     "data": {
      "image/png": "[encoded data removed]",
      "text/plain": [
       "<Figure size 504x504 with 2 Axes>"
      ]
     },
     "metadata": {
      "needs_background": "light"
     },
     "output_type": "display_data"
    }
   ],
   "source": [
    "from sklearn.metrics import plot_confusion_matrix\n",
    "\n",
    "fig, ax = plt.subplots(figsize=(7, 7))\n",
    "plt.title('Confusion Matrix')\n",
    "plot_confusion_matrix(xgb, original_Xtest, original_ytest, cmap='Blues', ax=ax);"
   ]
  },
  {
   "cell_type": "markdown",
   "id": "deb95495",
   "metadata": {},
   "source": [
    "**Note:** Our model has a very low `precision` with very high `recall` at the same time. Well, it depends on the business problem which type of metric we want to maximize, in our case we want to have rather higher `recall` than `precision`. It is acceptable to predict more 0 as 1 rather than more 1 as 0 (1 fradulent, 0 non-fradulent). However, we do not want to worry our clients too much that they their transaction was fraudulent, let's try to adjust the treshold to improve the `precision` as well."
   ]
  },
  {
   "cell_type": "markdown",
   "id": "363b961d",
   "metadata": {},
   "source": [
    "## Threshold tuning"
   ]
  },
  {
   "cell_type": "code",
   "execution_count": 41,
   "id": "501b22eb",
   "metadata": {},
   "outputs": [
    {
     "name": "stdout",
     "output_type": "stream",
     "text": [
      "Best Threshold=0.998936, F-Score=0.738\n"
     ]
    },
    {
     "data": {
      "image/png": "[encoded data removed]",
      "text/plain": [
       "<Figure size 720x360 with 2 Axes>"
      ]
     },
     "metadata": {
      "needs_background": "light"
     },
     "output_type": "display_data"
    }
   ],
   "source": [
    "fig = plt.figure(constrained_layout=True, figsize=(10, 5))\n",
    "grid = gridspec.GridSpec(ncols=2, nrows=1, figure=fig)\n",
    "\n",
    "y_pred_proba = xgb.predict_proba(original_Xtest)[:, 1]\n",
    "fpr, tpr, _ = metrics.roc_curve(original_ytest,  y_pred_proba)\n",
    "auc = metrics.roc_auc_score(original_ytest, y_pred_proba)\n",
    "\n",
    "ax1 = fig.add_subplot(grid[0, 0])\n",
    "ax1.set_title('ROC Curve')\n",
    "ax1.set_xlabel('False Positive Rate')\n",
    "ax1.set_ylabel('True Positive Rate')\n",
    "ax1.plot(fpr, tpr, label=\"ROC AUC = \" + str(round(auc, 3)))\n",
    "ax1.legend(loc=4);\n",
    "\n",
    "y_pred_proba = xgb.predict_proba(original_Xtest)[:, 1]\n",
    "precision_, recall_, thresholds = metrics.precision_recall_curve(original_ytest, y_pred_proba)\n",
    "fscore_ = (2 * precision_ * recall_) / (precision_ + recall_)\n",
    "ix = np.argmax(fscore_)\n",
    "my_ix = 42699\n",
    "print('Best Threshold=%f, F-Score=%.3f' % (thresholds[ix], fscore_[ix]))\n",
    "\n",
    "ax2 = fig.add_subplot(grid[0, 1])\n",
    "ax2.set_xlabel('Recall')\n",
    "ax2.set_ylabel('Precision')\n",
    "ax2.set_title('Precision-Recall Curve')\n",
    "ax2.plot(recall_, precision_)\n",
    "ax2.scatter(recall_[ix], precision_[ix], marker='o', color='green', label='Optimal');\n",
    "ax2.scatter(recall_[my_ix], precision_[my_ix], marker='o', color='red', label='My Choice');\n",
    "\n",
    "plt.legend();"
   ]
  },
  {
   "cell_type": "code",
   "execution_count": 42,
   "id": "8f2324d1",
   "metadata": {},
   "outputs": [],
   "source": [
    "threshold_tuned_pred = [1 if i >= thresholds[my_ix] else 0 for i in xgb.predict_proba(original_Xtest)[:, -1]]"
   ]
  },
  {
   "cell_type": "code",
   "execution_count": 43,
   "id": "7881b140",
   "metadata": {},
   "outputs": [
    {
     "data": {
      "text/html": [
       "<div>\n",
       "<style scoped>\n",
       "    .dataframe tbody tr th:only-of-type {\n",
       "        vertical-align: middle;\n",
       "    }\n",
       "\n",
       "    .dataframe tbody tr th {\n",
       "        vertical-align: top;\n",
       "    }\n",
       "\n",
       "    .dataframe thead th {\n",
       "        text-align: right;\n",
       "    }\n",
       "</style>\n",
       "<table border=\"1\" class=\"dataframe\">\n",
       "  <thead>\n",
       "    <tr style=\"text-align: right;\">\n",
       "      <th></th>\n",
       "      <th>before</th>\n",
       "      <th>after</th>\n",
       "    </tr>\n",
       "  </thead>\n",
       "  <tbody>\n",
       "    <tr>\n",
       "      <th>precision</th>\n",
       "      <td>0.045898</td>\n",
       "      <td>0.655172</td>\n",
       "    </tr>\n",
       "    <tr>\n",
       "      <th>recall</th>\n",
       "      <td>0.959184</td>\n",
       "      <td>0.775510</td>\n",
       "    </tr>\n",
       "    <tr>\n",
       "      <th>accuracy</th>\n",
       "      <td>0.965626</td>\n",
       "      <td>0.998912</td>\n",
       "    </tr>\n",
       "    <tr>\n",
       "      <th>AUC</th>\n",
       "      <td>0.962410</td>\n",
       "      <td>0.887403</td>\n",
       "    </tr>\n",
       "  </tbody>\n",
       "</table>\n",
       "</div>"
      ],
      "text/plain": [
       "             before     after\n",
       "precision  0.045898  0.655172\n",
       "recall     0.959184  0.775510\n",
       "accuracy   0.965626  0.998912\n",
       "AUC        0.962410  0.887403"
      ]
     },
     "execution_count": 43,
     "metadata": {},
     "output_type": "execute_result"
    }
   ],
   "source": [
    "from sklearn.metrics import accuracy_score, recall_score, precision_score, roc_auc_score, f1_score\n",
    "\n",
    "data=[[precision_score(original_ytest, prediction), precision_score(original_ytest, threshold_tuned_pred)],\n",
    "      [recall_score(original_ytest, prediction), recall_score(original_ytest, threshold_tuned_pred)],\n",
    "      [accuracy_score(original_ytest, prediction), accuracy_score(original_ytest, threshold_tuned_pred)],\n",
    "      [roc_auc_score(original_ytest, prediction), roc_auc_score(original_ytest, threshold_tuned_pred)]]\n",
    "\n",
    "result_df = pd.DataFrame(data=data,\n",
    "                         columns=['before', 'after'],\n",
    "                         index=['precision', 'recall', 'accuracy', 'AUC'])\n",
    "result_df"
   ]
  },
  {
   "cell_type": "markdown",
   "id": "8e7aee8c",
   "metadata": {},
   "source": [
    "**Note**: The most optimal threshold results with `precison` = 0.74 and `recall` = 0.73. However, we want to have recall slightly better than the precision, so I have decided to move the threshold manually a little bit away from the optimal so as to have the `recall` higher than the `precision`. Now, it results with `recall` = 0.78 and `precision` = 0.66."
   ]
  },
  {
   "cell_type": "markdown",
   "id": "a2b329cc",
   "metadata": {},
   "source": [
    "# Modeling (Original Data)"
   ]
  },
  {
   "cell_type": "markdown",
   "id": "172b5808",
   "metadata": {},
   "source": [
    "## Training Model"
   ]
  },
  {
   "cell_type": "code",
   "execution_count": 44,
   "id": "e3e9168e",
   "metadata": {},
   "outputs": [
    {
     "data": {
      "text/html": [
       "<div>\n",
       "<style scoped>\n",
       "    .dataframe tbody tr th:only-of-type {\n",
       "        vertical-align: middle;\n",
       "    }\n",
       "\n",
       "    .dataframe tbody tr th {\n",
       "        vertical-align: top;\n",
       "    }\n",
       "\n",
       "    .dataframe thead th {\n",
       "        text-align: right;\n",
       "    }\n",
       "</style>\n",
       "<table border=\"1\" class=\"dataframe\">\n",
       "  <thead>\n",
       "    <tr style=\"text-align: right;\">\n",
       "      <th></th>\n",
       "      <th>precision</th>\n",
       "      <th>recall</th>\n",
       "      <th>accuracy</th>\n",
       "      <th>AUC</th>\n",
       "    </tr>\n",
       "  </thead>\n",
       "  <tbody>\n",
       "    <tr>\n",
       "      <th>Logisitc Regression</th>\n",
       "      <td>0.936036</td>\n",
       "      <td>0.812919</td>\n",
       "      <td>0.999210</td>\n",
       "      <td>0.976473</td>\n",
       "    </tr>\n",
       "    <tr>\n",
       "      <th>SVM</th>\n",
       "      <td>0.960454</td>\n",
       "      <td>0.846385</td>\n",
       "      <td>0.999381</td>\n",
       "      <td>0.943352</td>\n",
       "    </tr>\n",
       "    <tr>\n",
       "      <th>Random Forest</th>\n",
       "      <td>0.968065</td>\n",
       "      <td>0.880987</td>\n",
       "      <td>0.999508</td>\n",
       "      <td>0.950257</td>\n",
       "    </tr>\n",
       "    <tr>\n",
       "      <th>XGBoost</th>\n",
       "      <td>0.969545</td>\n",
       "      <td>0.887264</td>\n",
       "      <td>0.999535</td>\n",
       "      <td>0.980804</td>\n",
       "    </tr>\n",
       "  </tbody>\n",
       "</table>\n",
       "</div>"
      ],
      "text/plain": [
       "                     precision    recall  accuracy       AUC\n",
       "Logisitc Regression   0.936036  0.812919  0.999210  0.976473\n",
       "SVM                   0.960454  0.846385  0.999381  0.943352\n",
       "Random Forest         0.968065  0.880987  0.999508  0.950257\n",
       "XGBoost               0.969545  0.887264  0.999535  0.980804"
      ]
     },
     "execution_count": 44,
     "metadata": {},
     "output_type": "execute_result"
    }
   ],
   "source": [
    "models = create_models()\n",
    "cv_results = fit_models(original_Xtrain, original_ytrain, models)\n",
    "show_cv_results(cv_results)"
   ]
  },
  {
   "cell_type": "markdown",
   "id": "be41143f",
   "metadata": {},
   "source": [
    "**Note:** Similarly as before, let's choose XGBoost for the further exploration."
   ]
  },
  {
   "cell_type": "code",
   "execution_count": 45,
   "id": "51ec0ba7",
   "metadata": {},
   "outputs": [
    {
     "data": {
      "text/plain": [
       "XGBClassifier(base_score=None, booster=None, colsample_bylevel=None,\n",
       "              colsample_bynode=None, colsample_bytree=None,\n",
       "              eval_metric='mlogloss', gamma=None, gpu_id=None,\n",
       "              importance_type='gain', interaction_constraints=None,\n",
       "              learning_rate=None, max_delta_step=None, max_depth=None,\n",
       "              min_child_weight=None, missing=nan, monotone_constraints=None,\n",
       "              n_estimators=100, n_jobs=None, num_parallel_tree=None,\n",
       "              random_state=None, reg_alpha=None, reg_lambda=None,\n",
       "              scale_pos_weight=None, subsample=None, tree_method=None,\n",
       "              validate_parameters=None, verbosity=None)"
      ]
     },
     "execution_count": 45,
     "metadata": {},
     "output_type": "execute_result"
    }
   ],
   "source": [
    "xgb = models[3]\n",
    "xgb"
   ]
  },
  {
   "cell_type": "markdown",
   "id": "79428550",
   "metadata": {},
   "source": [
    "## Testing Model"
   ]
  },
  {
   "cell_type": "code",
   "execution_count": 46,
   "id": "e86360d0",
   "metadata": {},
   "outputs": [],
   "source": [
    "xgb.fit(original_Xtrain, original_ytrain)\n",
    "prediction = xgb.predict(original_Xtest)"
   ]
  },
  {
   "cell_type": "code",
   "execution_count": 47,
   "id": "d89be71f",
   "metadata": {},
   "outputs": [
    {
     "data": {
      "text/html": [
       "<div>\n",
       "<style scoped>\n",
       "    .dataframe tbody tr th:only-of-type {\n",
       "        vertical-align: middle;\n",
       "    }\n",
       "\n",
       "    .dataframe tbody tr th {\n",
       "        vertical-align: top;\n",
       "    }\n",
       "\n",
       "    .dataframe thead th {\n",
       "        text-align: right;\n",
       "    }\n",
       "</style>\n",
       "<table border=\"1\" class=\"dataframe\">\n",
       "  <thead>\n",
       "    <tr style=\"text-align: right;\">\n",
       "      <th></th>\n",
       "      <th>XGBoost</th>\n",
       "    </tr>\n",
       "  </thead>\n",
       "  <tbody>\n",
       "    <tr>\n",
       "      <th>precision</th>\n",
       "      <td>0.920455</td>\n",
       "    </tr>\n",
       "    <tr>\n",
       "      <th>recall</th>\n",
       "      <td>0.826531</td>\n",
       "    </tr>\n",
       "    <tr>\n",
       "      <th>accuracy</th>\n",
       "      <td>0.999579</td>\n",
       "    </tr>\n",
       "    <tr>\n",
       "      <th>AUC</th>\n",
       "      <td>0.913204</td>\n",
       "    </tr>\n",
       "  </tbody>\n",
       "</table>\n",
       "</div>"
      ],
      "text/plain": [
       "            XGBoost\n",
       "precision  0.920455\n",
       "recall     0.826531\n",
       "accuracy   0.999579\n",
       "AUC        0.913204"
      ]
     },
     "execution_count": 47,
     "metadata": {},
     "output_type": "execute_result"
    }
   ],
   "source": [
    "data=[[precision_score(original_ytest, prediction),\n",
    "       recall_score(original_ytest, prediction),\n",
    "       accuracy_score(original_ytest, prediction),\n",
    "       roc_auc_score(original_ytest, prediction)]]\n",
    "result_df = pd.DataFrame(index=['XGBoost'],\n",
    "                         data=data, columns=['precision', 'recall', 'accuracy', 'AUC']).T\n",
    "result_df"
   ]
  },
  {
   "cell_type": "code",
   "execution_count": 48,
   "id": "782ec469",
   "metadata": {
    "scrolled": true
   },
   "outputs": [
    {
     "data": {
      "image/png": "[encoded data removed]",
      "text/plain": [
       "<Figure size 504x504 with 2 Axes>"
      ]
     },
     "metadata": {
      "needs_background": "light"
     },
     "output_type": "display_data"
    }
   ],
   "source": [
    "from sklearn.metrics import plot_confusion_matrix\n",
    "\n",
    "fig, ax = plt.subplots(figsize=(7, 7))\n",
    "plt.title('Confusion Matrix')\n",
    "plot_confusion_matrix(xgb, original_Xtest, original_ytest, cmap='Blues', ax=ax);"
   ]
  },
  {
   "cell_type": "markdown",
   "id": "0b1da835",
   "metadata": {},
   "source": [
    "**Note**: At first glance our predicion using Original Data for training model looks better than on the RUS Data. We received both very high `precision` = 0.92 as well as `recall` = 0.83. Let's explore thresholds."
   ]
  },
  {
   "cell_type": "markdown",
   "id": "47bec51a",
   "metadata": {},
   "source": [
    "## Threshold tuning"
   ]
  },
  {
   "cell_type": "code",
   "execution_count": 49,
   "id": "03beaabf",
   "metadata": {},
   "outputs": [
    {
     "name": "stdout",
     "output_type": "stream",
     "text": [
      "Best Threshold=0.299159, F-Score=0.889\n"
     ]
    },
    {
     "data": {
      "image/png": "[encoded data removed]",
      "text/plain": [
       "<Figure size 720x360 with 2 Axes>"
      ]
     },
     "metadata": {
      "needs_background": "light"
     },
     "output_type": "display_data"
    }
   ],
   "source": [
    "fig = plt.figure(constrained_layout=True, figsize=(10, 5))\n",
    "grid = gridspec.GridSpec(ncols=2, nrows=1, figure=fig)\n",
    "\n",
    "y_pred_proba = xgb.predict_proba(original_Xtest)[:, 1]\n",
    "fpr, tpr, _ = metrics.roc_curve(original_ytest,  y_pred_proba)\n",
    "auc = metrics.roc_auc_score(original_ytest, y_pred_proba)\n",
    "\n",
    "ax1 = fig.add_subplot(grid[0, 0])\n",
    "ax1.set_title('ROC Curve')\n",
    "ax1.set_xlabel('False Positive Rate')\n",
    "ax1.set_ylabel('True Positive Rate')\n",
    "ax1.plot(fpr, tpr, label=\"ROC AUC = \" + str(round(auc, 3)))\n",
    "ax1.legend(loc=4);\n",
    "\n",
    "y_pred_proba = xgb.predict_proba(original_Xtest)[:, 1]\n",
    "precision_, recall_, thresholds = metrics.precision_recall_curve(original_ytest, y_pred_proba)\n",
    "fscore_ = (2 * precision_ * recall_) / (precision_ + recall_)\n",
    "ix = np.argmax(fscore_)\n",
    "my_ix = 37755\n",
    "print('Best Threshold=%f, F-Score=%.3f' % (thresholds[ix], fscore_[ix]))\n",
    "\n",
    "ax2 = fig.add_subplot(grid[0, 1])\n",
    "ax2.set_xlabel('Recall')\n",
    "ax2.set_ylabel('Precision')\n",
    "ax2.set_title('Precision-Recall Curve')\n",
    "ax2.plot(recall_, precision_)\n",
    "ax2.scatter(recall_[ix], precision_[ix], marker='o', color='green', label='Optimal');\n",
    "ax2.scatter(recall_[my_ix], precision_[my_ix], marker='o', color='red', label='My Choice');\n",
    "\n",
    "plt.legend();"
   ]
  },
  {
   "cell_type": "code",
   "execution_count": 50,
   "id": "47fa23ac",
   "metadata": {},
   "outputs": [],
   "source": [
    "threshold_tuned_pred = [1 if i >= thresholds[my_ix] else 0 for i in xgb.predict_proba(original_Xtest)[:, -1]]"
   ]
  },
  {
   "cell_type": "code",
   "execution_count": 51,
   "id": "2e1bdb25",
   "metadata": {},
   "outputs": [
    {
     "data": {
      "text/html": [
       "<div>\n",
       "<style scoped>\n",
       "    .dataframe tbody tr th:only-of-type {\n",
       "        vertical-align: middle;\n",
       "    }\n",
       "\n",
       "    .dataframe tbody tr th {\n",
       "        vertical-align: top;\n",
       "    }\n",
       "\n",
       "    .dataframe thead th {\n",
       "        text-align: right;\n",
       "    }\n",
       "</style>\n",
       "<table border=\"1\" class=\"dataframe\">\n",
       "  <thead>\n",
       "    <tr style=\"text-align: right;\">\n",
       "      <th></th>\n",
       "      <th>before</th>\n",
       "      <th>after</th>\n",
       "    </tr>\n",
       "  </thead>\n",
       "  <tbody>\n",
       "    <tr>\n",
       "      <th>precision</th>\n",
       "      <td>0.920455</td>\n",
       "      <td>0.868687</td>\n",
       "    </tr>\n",
       "    <tr>\n",
       "      <th>recall</th>\n",
       "      <td>0.826531</td>\n",
       "      <td>0.877551</td>\n",
       "    </tr>\n",
       "    <tr>\n",
       "      <th>accuracy</th>\n",
       "      <td>0.999579</td>\n",
       "      <td>0.999561</td>\n",
       "    </tr>\n",
       "    <tr>\n",
       "      <th>AUC</th>\n",
       "      <td>0.913204</td>\n",
       "      <td>0.938661</td>\n",
       "    </tr>\n",
       "  </tbody>\n",
       "</table>\n",
       "</div>"
      ],
      "text/plain": [
       "             before     after\n",
       "precision  0.920455  0.868687\n",
       "recall     0.826531  0.877551\n",
       "accuracy   0.999579  0.999561\n",
       "AUC        0.913204  0.938661"
      ]
     },
     "execution_count": 51,
     "metadata": {},
     "output_type": "execute_result"
    }
   ],
   "source": [
    "from sklearn.metrics import accuracy_score, recall_score, precision_score, roc_auc_score, f1_score\n",
    "\n",
    "data=[[precision_score(original_ytest, prediction), precision_score(original_ytest, threshold_tuned_pred)],\n",
    "      [recall_score(original_ytest, prediction), recall_score(original_ytest, threshold_tuned_pred)],\n",
    "      [accuracy_score(original_ytest, prediction), accuracy_score(original_ytest, threshold_tuned_pred)],\n",
    "      [roc_auc_score(original_ytest, prediction), roc_auc_score(original_ytest, threshold_tuned_pred)]]\n",
    "\n",
    "result_df = pd.DataFrame(data=data,\n",
    "                         columns=['before', 'after'],\n",
    "                         index=['precision', 'recall', 'accuracy', 'AUC'])\n",
    "result_df"
   ]
  },
  {
   "cell_type": "markdown",
   "id": "33438309",
   "metadata": {},
   "source": [
    "**Note**: The most optimal threshold results with `precison` = 0.92 and `recall` = 0.86. However, we want to have recall slightly better than the precision, so I have decided to move the threshold manually a little bit away from the optimal so as to have the `recall` higher than the `precision`. Now, it results with `recall` = 0.88 and `precision` = 0.87."
   ]
  },
  {
   "cell_type": "markdown",
   "id": "03d5efec",
   "metadata": {},
   "source": [
    "# Summary"
   ]
  },
  {
   "cell_type": "markdown",
   "id": "e981fbd5",
   "metadata": {},
   "source": [
    "Finally, training our XGBoost model on Original Data turned out to be more efficient than on the RUS Data.\\\n",
    "We received a following final results:"
   ]
  },
  {
   "cell_type": "code",
   "execution_count": 52,
   "id": "7831ec67",
   "metadata": {},
   "outputs": [
    {
     "data": {
      "text/html": [
       "<div>\n",
       "<style scoped>\n",
       "    .dataframe tbody tr th:only-of-type {\n",
       "        vertical-align: middle;\n",
       "    }\n",
       "\n",
       "    .dataframe tbody tr th {\n",
       "        vertical-align: top;\n",
       "    }\n",
       "\n",
       "    .dataframe thead th {\n",
       "        text-align: right;\n",
       "    }\n",
       "</style>\n",
       "<table border=\"1\" class=\"dataframe\">\n",
       "  <thead>\n",
       "    <tr style=\"text-align: right;\">\n",
       "      <th></th>\n",
       "      <th>XGBoost</th>\n",
       "    </tr>\n",
       "  </thead>\n",
       "  <tbody>\n",
       "    <tr>\n",
       "      <th>precision</th>\n",
       "      <td>0.868687</td>\n",
       "    </tr>\n",
       "    <tr>\n",
       "      <th>recall</th>\n",
       "      <td>0.877551</td>\n",
       "    </tr>\n",
       "    <tr>\n",
       "      <th>accuracy</th>\n",
       "      <td>0.999561</td>\n",
       "    </tr>\n",
       "    <tr>\n",
       "      <th>AUC</th>\n",
       "      <td>0.938661</td>\n",
       "    </tr>\n",
       "  </tbody>\n",
       "</table>\n",
       "</div>"
      ],
      "text/plain": [
       "            XGBoost\n",
       "precision  0.868687\n",
       "recall     0.877551\n",
       "accuracy   0.999561\n",
       "AUC        0.938661"
      ]
     },
     "execution_count": 52,
     "metadata": {},
     "output_type": "execute_result"
    }
   ],
   "source": [
    "data=[[precision_score(original_ytest, threshold_tuned_pred),\n",
    "       recall_score(original_ytest, threshold_tuned_pred),\n",
    "       accuracy_score(original_ytest, threshold_tuned_pred),\n",
    "       roc_auc_score(original_ytest, threshold_tuned_pred)]]\n",
    "\n",
    "final_df = pd.DataFrame(index=['XGBoost'],\n",
    "                        data=data,\n",
    "                        columns=['precision', 'recall', 'accuracy', 'AUC']).T\n",
    "final_df"
   ]
  }
 ],
 "metadata": {
  "kernelspec": {
   "display_name": "gpu2",
   "language": "python",
   "name": "gpu2"
  },
  "language_info": {
   "codemirror_mode": {
    "name": "ipython",
    "version": 3
   },
   "file_extension": ".py",
   "mimetype": "text/x-python",
   "name": "python",
   "nbconvert_exporter": "python",
   "pygments_lexer": "ipython3",
   "version": "3.6.15"
  },
  "toc": {
   "base_numbering": 1,
   "nav_menu": {},
   "number_sections": false,
   "sideBar": true,
   "skip_h1_title": false,
   "title_cell": "Table of Contents",
   "title_sidebar": "Contents",
   "toc_cell": false,
   "toc_position": {
    "height": "calc(100% - 180px)",
    "left": "10px",
    "top": "150px",
    "width": "303.837px"
   },
   "toc_section_display": true,
   "toc_window_display": true
  }
 },
 "nbformat": 4,
 "nbformat_minor": 5
}
